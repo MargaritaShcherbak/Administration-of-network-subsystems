{
  "nbformat": 4,
  "nbformat_minor": 0,
  "metadata": {
    "colab": {
      "provenance": []
    },
    "kernelspec": {
      "name": "python3",
      "display_name": "Python 3"
    },
    "language_info": {
      "name": "python"
    },
    "widgets": {
      "application/vnd.jupyter.widget-state+json": {
        "27a301528bc64d9d9dc1d03b1b938686": {
          "model_module": "@jupyter-widgets/controls",
          "model_name": "HBoxModel",
          "model_module_version": "1.5.0",
          "state": {
            "_dom_classes": [],
            "_model_module": "@jupyter-widgets/controls",
            "_model_module_version": "1.5.0",
            "_model_name": "HBoxModel",
            "_view_count": null,
            "_view_module": "@jupyter-widgets/controls",
            "_view_module_version": "1.5.0",
            "_view_name": "HBoxView",
            "box_style": "",
            "children": [
              "IPY_MODEL_c240f071c56a4483aa019d9a41ddfd73",
              "IPY_MODEL_b84b517213fa4a338dd9d4db1ff04664",
              "IPY_MODEL_b6c53d6e178146d59611c522b2727981"
            ],
            "layout": "IPY_MODEL_86e4591b318d459cb902a6d3f8a6229c"
          }
        },
        "c240f071c56a4483aa019d9a41ddfd73": {
          "model_module": "@jupyter-widgets/controls",
          "model_name": "HTMLModel",
          "model_module_version": "1.5.0",
          "state": {
            "_dom_classes": [],
            "_model_module": "@jupyter-widgets/controls",
            "_model_module_version": "1.5.0",
            "_model_name": "HTMLModel",
            "_view_count": null,
            "_view_module": "@jupyter-widgets/controls",
            "_view_module_version": "1.5.0",
            "_view_name": "HTMLView",
            "description": "",
            "description_tooltip": null,
            "layout": "IPY_MODEL_feb7e9c807b94ee1be94510a7595e7cc",
            "placeholder": "​",
            "style": "IPY_MODEL_dd62286446cc48c694d809ff6c4f534b",
            "value": "Dl Completed...: 100%"
          }
        },
        "b84b517213fa4a338dd9d4db1ff04664": {
          "model_module": "@jupyter-widgets/controls",
          "model_name": "FloatProgressModel",
          "model_module_version": "1.5.0",
          "state": {
            "_dom_classes": [],
            "_model_module": "@jupyter-widgets/controls",
            "_model_module_version": "1.5.0",
            "_model_name": "FloatProgressModel",
            "_view_count": null,
            "_view_module": "@jupyter-widgets/controls",
            "_view_module_version": "1.5.0",
            "_view_name": "ProgressView",
            "bar_style": "success",
            "description": "",
            "description_tooltip": null,
            "layout": "IPY_MODEL_7e0ee707afe5496c909235420e1bb00d",
            "max": 1,
            "min": 0,
            "orientation": "horizontal",
            "style": "IPY_MODEL_36661d3be6d34b6d986824790e85b978",
            "value": 1
          }
        },
        "b6c53d6e178146d59611c522b2727981": {
          "model_module": "@jupyter-widgets/controls",
          "model_name": "HTMLModel",
          "model_module_version": "1.5.0",
          "state": {
            "_dom_classes": [],
            "_model_module": "@jupyter-widgets/controls",
            "_model_module_version": "1.5.0",
            "_model_name": "HTMLModel",
            "_view_count": null,
            "_view_module": "@jupyter-widgets/controls",
            "_view_module_version": "1.5.0",
            "_view_name": "HTMLView",
            "description": "",
            "description_tooltip": null,
            "layout": "IPY_MODEL_7ede26e03f6d449f8cd986d704874be5",
            "placeholder": "​",
            "style": "IPY_MODEL_be48cb44fa66447684f2c89191d927f5",
            "value": " 3/3 [01:38&lt;00:00, 42.04s/ url]"
          }
        },
        "86e4591b318d459cb902a6d3f8a6229c": {
          "model_module": "@jupyter-widgets/base",
          "model_name": "LayoutModel",
          "model_module_version": "1.2.0",
          "state": {
            "_model_module": "@jupyter-widgets/base",
            "_model_module_version": "1.2.0",
            "_model_name": "LayoutModel",
            "_view_count": null,
            "_view_module": "@jupyter-widgets/base",
            "_view_module_version": "1.2.0",
            "_view_name": "LayoutView",
            "align_content": null,
            "align_items": null,
            "align_self": null,
            "border": null,
            "bottom": null,
            "display": null,
            "flex": null,
            "flex_flow": null,
            "grid_area": null,
            "grid_auto_columns": null,
            "grid_auto_flow": null,
            "grid_auto_rows": null,
            "grid_column": null,
            "grid_gap": null,
            "grid_row": null,
            "grid_template_areas": null,
            "grid_template_columns": null,
            "grid_template_rows": null,
            "height": null,
            "justify_content": null,
            "justify_items": null,
            "left": null,
            "margin": null,
            "max_height": null,
            "max_width": null,
            "min_height": null,
            "min_width": null,
            "object_fit": null,
            "object_position": null,
            "order": null,
            "overflow": null,
            "overflow_x": null,
            "overflow_y": null,
            "padding": null,
            "right": null,
            "top": null,
            "visibility": null,
            "width": null
          }
        },
        "feb7e9c807b94ee1be94510a7595e7cc": {
          "model_module": "@jupyter-widgets/base",
          "model_name": "LayoutModel",
          "model_module_version": "1.2.0",
          "state": {
            "_model_module": "@jupyter-widgets/base",
            "_model_module_version": "1.2.0",
            "_model_name": "LayoutModel",
            "_view_count": null,
            "_view_module": "@jupyter-widgets/base",
            "_view_module_version": "1.2.0",
            "_view_name": "LayoutView",
            "align_content": null,
            "align_items": null,
            "align_self": null,
            "border": null,
            "bottom": null,
            "display": null,
            "flex": null,
            "flex_flow": null,
            "grid_area": null,
            "grid_auto_columns": null,
            "grid_auto_flow": null,
            "grid_auto_rows": null,
            "grid_column": null,
            "grid_gap": null,
            "grid_row": null,
            "grid_template_areas": null,
            "grid_template_columns": null,
            "grid_template_rows": null,
            "height": null,
            "justify_content": null,
            "justify_items": null,
            "left": null,
            "margin": null,
            "max_height": null,
            "max_width": null,
            "min_height": null,
            "min_width": null,
            "object_fit": null,
            "object_position": null,
            "order": null,
            "overflow": null,
            "overflow_x": null,
            "overflow_y": null,
            "padding": null,
            "right": null,
            "top": null,
            "visibility": null,
            "width": null
          }
        },
        "dd62286446cc48c694d809ff6c4f534b": {
          "model_module": "@jupyter-widgets/controls",
          "model_name": "DescriptionStyleModel",
          "model_module_version": "1.5.0",
          "state": {
            "_model_module": "@jupyter-widgets/controls",
            "_model_module_version": "1.5.0",
            "_model_name": "DescriptionStyleModel",
            "_view_count": null,
            "_view_module": "@jupyter-widgets/base",
            "_view_module_version": "1.2.0",
            "_view_name": "StyleView",
            "description_width": ""
          }
        },
        "7e0ee707afe5496c909235420e1bb00d": {
          "model_module": "@jupyter-widgets/base",
          "model_name": "LayoutModel",
          "model_module_version": "1.2.0",
          "state": {
            "_model_module": "@jupyter-widgets/base",
            "_model_module_version": "1.2.0",
            "_model_name": "LayoutModel",
            "_view_count": null,
            "_view_module": "@jupyter-widgets/base",
            "_view_module_version": "1.2.0",
            "_view_name": "LayoutView",
            "align_content": null,
            "align_items": null,
            "align_self": null,
            "border": null,
            "bottom": null,
            "display": null,
            "flex": null,
            "flex_flow": null,
            "grid_area": null,
            "grid_auto_columns": null,
            "grid_auto_flow": null,
            "grid_auto_rows": null,
            "grid_column": null,
            "grid_gap": null,
            "grid_row": null,
            "grid_template_areas": null,
            "grid_template_columns": null,
            "grid_template_rows": null,
            "height": null,
            "justify_content": null,
            "justify_items": null,
            "left": null,
            "margin": null,
            "max_height": null,
            "max_width": null,
            "min_height": null,
            "min_width": null,
            "object_fit": null,
            "object_position": null,
            "order": null,
            "overflow": null,
            "overflow_x": null,
            "overflow_y": null,
            "padding": null,
            "right": null,
            "top": null,
            "visibility": null,
            "width": "20px"
          }
        },
        "36661d3be6d34b6d986824790e85b978": {
          "model_module": "@jupyter-widgets/controls",
          "model_name": "ProgressStyleModel",
          "model_module_version": "1.5.0",
          "state": {
            "_model_module": "@jupyter-widgets/controls",
            "_model_module_version": "1.5.0",
            "_model_name": "ProgressStyleModel",
            "_view_count": null,
            "_view_module": "@jupyter-widgets/base",
            "_view_module_version": "1.2.0",
            "_view_name": "StyleView",
            "bar_color": null,
            "description_width": ""
          }
        },
        "7ede26e03f6d449f8cd986d704874be5": {
          "model_module": "@jupyter-widgets/base",
          "model_name": "LayoutModel",
          "model_module_version": "1.2.0",
          "state": {
            "_model_module": "@jupyter-widgets/base",
            "_model_module_version": "1.2.0",
            "_model_name": "LayoutModel",
            "_view_count": null,
            "_view_module": "@jupyter-widgets/base",
            "_view_module_version": "1.2.0",
            "_view_name": "LayoutView",
            "align_content": null,
            "align_items": null,
            "align_self": null,
            "border": null,
            "bottom": null,
            "display": null,
            "flex": null,
            "flex_flow": null,
            "grid_area": null,
            "grid_auto_columns": null,
            "grid_auto_flow": null,
            "grid_auto_rows": null,
            "grid_column": null,
            "grid_gap": null,
            "grid_row": null,
            "grid_template_areas": null,
            "grid_template_columns": null,
            "grid_template_rows": null,
            "height": null,
            "justify_content": null,
            "justify_items": null,
            "left": null,
            "margin": null,
            "max_height": null,
            "max_width": null,
            "min_height": null,
            "min_width": null,
            "object_fit": null,
            "object_position": null,
            "order": null,
            "overflow": null,
            "overflow_x": null,
            "overflow_y": null,
            "padding": null,
            "right": null,
            "top": null,
            "visibility": null,
            "width": null
          }
        },
        "be48cb44fa66447684f2c89191d927f5": {
          "model_module": "@jupyter-widgets/controls",
          "model_name": "DescriptionStyleModel",
          "model_module_version": "1.5.0",
          "state": {
            "_model_module": "@jupyter-widgets/controls",
            "_model_module_version": "1.5.0",
            "_model_name": "DescriptionStyleModel",
            "_view_count": null,
            "_view_module": "@jupyter-widgets/base",
            "_view_module_version": "1.2.0",
            "_view_name": "StyleView",
            "description_width": ""
          }
        },
        "35689ba6a030477aa589f345dead0382": {
          "model_module": "@jupyter-widgets/controls",
          "model_name": "HBoxModel",
          "model_module_version": "1.5.0",
          "state": {
            "_dom_classes": [],
            "_model_module": "@jupyter-widgets/controls",
            "_model_module_version": "1.5.0",
            "_model_name": "HBoxModel",
            "_view_count": null,
            "_view_module": "@jupyter-widgets/controls",
            "_view_module_version": "1.5.0",
            "_view_name": "HBoxView",
            "box_style": "",
            "children": [
              "IPY_MODEL_b10ffa87a7f94241b22ed58fb075d412",
              "IPY_MODEL_b028fef182e94963bf962400ef64d02e",
              "IPY_MODEL_b7aed84b3172431fa0280c680a9624c3"
            ],
            "layout": "IPY_MODEL_10618ff8774b47a18d02de02f8aed09c"
          }
        },
        "b10ffa87a7f94241b22ed58fb075d412": {
          "model_module": "@jupyter-widgets/controls",
          "model_name": "HTMLModel",
          "model_module_version": "1.5.0",
          "state": {
            "_dom_classes": [],
            "_model_module": "@jupyter-widgets/controls",
            "_model_module_version": "1.5.0",
            "_model_name": "HTMLModel",
            "_view_count": null,
            "_view_module": "@jupyter-widgets/controls",
            "_view_module_version": "1.5.0",
            "_view_name": "HTMLView",
            "description": "",
            "description_tooltip": null,
            "layout": "IPY_MODEL_262f742b90e840b291a623c29cec15b3",
            "placeholder": "​",
            "style": "IPY_MODEL_115a64d5b516420ea539095e34a469b2",
            "value": "Dl Size...: 100%"
          }
        },
        "b028fef182e94963bf962400ef64d02e": {
          "model_module": "@jupyter-widgets/controls",
          "model_name": "FloatProgressModel",
          "model_module_version": "1.5.0",
          "state": {
            "_dom_classes": [],
            "_model_module": "@jupyter-widgets/controls",
            "_model_module_version": "1.5.0",
            "_model_name": "FloatProgressModel",
            "_view_count": null,
            "_view_module": "@jupyter-widgets/controls",
            "_view_module_version": "1.5.0",
            "_view_name": "ProgressView",
            "bar_style": "success",
            "description": "",
            "description_tooltip": null,
            "layout": "IPY_MODEL_e73bd48520ad447cbdc75e06b7b169b0",
            "max": 1,
            "min": 0,
            "orientation": "horizontal",
            "style": "IPY_MODEL_2602439575c4495cae8d441ea17b50f6",
            "value": 1
          }
        },
        "b7aed84b3172431fa0280c680a9624c3": {
          "model_module": "@jupyter-widgets/controls",
          "model_name": "HTMLModel",
          "model_module_version": "1.5.0",
          "state": {
            "_dom_classes": [],
            "_model_module": "@jupyter-widgets/controls",
            "_model_module_version": "1.5.0",
            "_model_name": "HTMLModel",
            "_view_count": null,
            "_view_module": "@jupyter-widgets/controls",
            "_view_module_version": "1.5.0",
            "_view_name": "HTMLView",
            "description": "",
            "description_tooltip": null,
            "layout": "IPY_MODEL_416876673eb44533b920812ed6a7a5d8",
            "placeholder": "​",
            "style": "IPY_MODEL_f381007973e540e5b24dc251e674c651",
            "value": " 1501/1501 [01:38&lt;00:00, 19.63 MiB/s]"
          }
        },
        "10618ff8774b47a18d02de02f8aed09c": {
          "model_module": "@jupyter-widgets/base",
          "model_name": "LayoutModel",
          "model_module_version": "1.2.0",
          "state": {
            "_model_module": "@jupyter-widgets/base",
            "_model_module_version": "1.2.0",
            "_model_name": "LayoutModel",
            "_view_count": null,
            "_view_module": "@jupyter-widgets/base",
            "_view_module_version": "1.2.0",
            "_view_name": "LayoutView",
            "align_content": null,
            "align_items": null,
            "align_self": null,
            "border": null,
            "bottom": null,
            "display": null,
            "flex": null,
            "flex_flow": null,
            "grid_area": null,
            "grid_auto_columns": null,
            "grid_auto_flow": null,
            "grid_auto_rows": null,
            "grid_column": null,
            "grid_gap": null,
            "grid_row": null,
            "grid_template_areas": null,
            "grid_template_columns": null,
            "grid_template_rows": null,
            "height": null,
            "justify_content": null,
            "justify_items": null,
            "left": null,
            "margin": null,
            "max_height": null,
            "max_width": null,
            "min_height": null,
            "min_width": null,
            "object_fit": null,
            "object_position": null,
            "order": null,
            "overflow": null,
            "overflow_x": null,
            "overflow_y": null,
            "padding": null,
            "right": null,
            "top": null,
            "visibility": null,
            "width": null
          }
        },
        "262f742b90e840b291a623c29cec15b3": {
          "model_module": "@jupyter-widgets/base",
          "model_name": "LayoutModel",
          "model_module_version": "1.2.0",
          "state": {
            "_model_module": "@jupyter-widgets/base",
            "_model_module_version": "1.2.0",
            "_model_name": "LayoutModel",
            "_view_count": null,
            "_view_module": "@jupyter-widgets/base",
            "_view_module_version": "1.2.0",
            "_view_name": "LayoutView",
            "align_content": null,
            "align_items": null,
            "align_self": null,
            "border": null,
            "bottom": null,
            "display": null,
            "flex": null,
            "flex_flow": null,
            "grid_area": null,
            "grid_auto_columns": null,
            "grid_auto_flow": null,
            "grid_auto_rows": null,
            "grid_column": null,
            "grid_gap": null,
            "grid_row": null,
            "grid_template_areas": null,
            "grid_template_columns": null,
            "grid_template_rows": null,
            "height": null,
            "justify_content": null,
            "justify_items": null,
            "left": null,
            "margin": null,
            "max_height": null,
            "max_width": null,
            "min_height": null,
            "min_width": null,
            "object_fit": null,
            "object_position": null,
            "order": null,
            "overflow": null,
            "overflow_x": null,
            "overflow_y": null,
            "padding": null,
            "right": null,
            "top": null,
            "visibility": null,
            "width": null
          }
        },
        "115a64d5b516420ea539095e34a469b2": {
          "model_module": "@jupyter-widgets/controls",
          "model_name": "DescriptionStyleModel",
          "model_module_version": "1.5.0",
          "state": {
            "_model_module": "@jupyter-widgets/controls",
            "_model_module_version": "1.5.0",
            "_model_name": "DescriptionStyleModel",
            "_view_count": null,
            "_view_module": "@jupyter-widgets/base",
            "_view_module_version": "1.2.0",
            "_view_name": "StyleView",
            "description_width": ""
          }
        },
        "e73bd48520ad447cbdc75e06b7b169b0": {
          "model_module": "@jupyter-widgets/base",
          "model_name": "LayoutModel",
          "model_module_version": "1.2.0",
          "state": {
            "_model_module": "@jupyter-widgets/base",
            "_model_module_version": "1.2.0",
            "_model_name": "LayoutModel",
            "_view_count": null,
            "_view_module": "@jupyter-widgets/base",
            "_view_module_version": "1.2.0",
            "_view_name": "LayoutView",
            "align_content": null,
            "align_items": null,
            "align_self": null,
            "border": null,
            "bottom": null,
            "display": null,
            "flex": null,
            "flex_flow": null,
            "grid_area": null,
            "grid_auto_columns": null,
            "grid_auto_flow": null,
            "grid_auto_rows": null,
            "grid_column": null,
            "grid_gap": null,
            "grid_row": null,
            "grid_template_areas": null,
            "grid_template_columns": null,
            "grid_template_rows": null,
            "height": null,
            "justify_content": null,
            "justify_items": null,
            "left": null,
            "margin": null,
            "max_height": null,
            "max_width": null,
            "min_height": null,
            "min_width": null,
            "object_fit": null,
            "object_position": null,
            "order": null,
            "overflow": null,
            "overflow_x": null,
            "overflow_y": null,
            "padding": null,
            "right": null,
            "top": null,
            "visibility": null,
            "width": "20px"
          }
        },
        "2602439575c4495cae8d441ea17b50f6": {
          "model_module": "@jupyter-widgets/controls",
          "model_name": "ProgressStyleModel",
          "model_module_version": "1.5.0",
          "state": {
            "_model_module": "@jupyter-widgets/controls",
            "_model_module_version": "1.5.0",
            "_model_name": "ProgressStyleModel",
            "_view_count": null,
            "_view_module": "@jupyter-widgets/base",
            "_view_module_version": "1.2.0",
            "_view_name": "StyleView",
            "bar_color": null,
            "description_width": ""
          }
        },
        "416876673eb44533b920812ed6a7a5d8": {
          "model_module": "@jupyter-widgets/base",
          "model_name": "LayoutModel",
          "model_module_version": "1.2.0",
          "state": {
            "_model_module": "@jupyter-widgets/base",
            "_model_module_version": "1.2.0",
            "_model_name": "LayoutModel",
            "_view_count": null,
            "_view_module": "@jupyter-widgets/base",
            "_view_module_version": "1.2.0",
            "_view_name": "LayoutView",
            "align_content": null,
            "align_items": null,
            "align_self": null,
            "border": null,
            "bottom": null,
            "display": null,
            "flex": null,
            "flex_flow": null,
            "grid_area": null,
            "grid_auto_columns": null,
            "grid_auto_flow": null,
            "grid_auto_rows": null,
            "grid_column": null,
            "grid_gap": null,
            "grid_row": null,
            "grid_template_areas": null,
            "grid_template_columns": null,
            "grid_template_rows": null,
            "height": null,
            "justify_content": null,
            "justify_items": null,
            "left": null,
            "margin": null,
            "max_height": null,
            "max_width": null,
            "min_height": null,
            "min_width": null,
            "object_fit": null,
            "object_position": null,
            "order": null,
            "overflow": null,
            "overflow_x": null,
            "overflow_y": null,
            "padding": null,
            "right": null,
            "top": null,
            "visibility": null,
            "width": null
          }
        },
        "f381007973e540e5b24dc251e674c651": {
          "model_module": "@jupyter-widgets/controls",
          "model_name": "DescriptionStyleModel",
          "model_module_version": "1.5.0",
          "state": {
            "_model_module": "@jupyter-widgets/controls",
            "_model_module_version": "1.5.0",
            "_model_name": "DescriptionStyleModel",
            "_view_count": null,
            "_view_module": "@jupyter-widgets/base",
            "_view_module_version": "1.2.0",
            "_view_name": "StyleView",
            "description_width": ""
          }
        },
        "4efd3034c5224669ab68efaa5c550fb5": {
          "model_module": "@jupyter-widgets/controls",
          "model_name": "HBoxModel",
          "model_module_version": "1.5.0",
          "state": {
            "_dom_classes": [],
            "_model_module": "@jupyter-widgets/controls",
            "_model_module_version": "1.5.0",
            "_model_name": "HBoxModel",
            "_view_count": null,
            "_view_module": "@jupyter-widgets/controls",
            "_view_module_version": "1.5.0",
            "_view_name": "HBoxView",
            "box_style": "",
            "children": [
              "IPY_MODEL_abaae2fef91c4118b673cab52402912e",
              "IPY_MODEL_e0d347168d484d2eb5d643c4785800ce",
              "IPY_MODEL_2ca563b35a554dda91e55a3c015bb270"
            ],
            "layout": "IPY_MODEL_26012cf0f07145879d0b55cd97bfee2a"
          }
        },
        "abaae2fef91c4118b673cab52402912e": {
          "model_module": "@jupyter-widgets/controls",
          "model_name": "HTMLModel",
          "model_module_version": "1.5.0",
          "state": {
            "_dom_classes": [],
            "_model_module": "@jupyter-widgets/controls",
            "_model_module_version": "1.5.0",
            "_model_name": "HTMLModel",
            "_view_count": null,
            "_view_module": "@jupyter-widgets/controls",
            "_view_module_version": "1.5.0",
            "_view_name": "HTMLView",
            "description": "",
            "description_tooltip": null,
            "layout": "IPY_MODEL_48443785e6db45fa9def16c7a1a3ce85",
            "placeholder": "​",
            "style": "IPY_MODEL_3a13560207404f53b229fbd936bdf226",
            "value": "Generating splits...: 100%"
          }
        },
        "e0d347168d484d2eb5d643c4785800ce": {
          "model_module": "@jupyter-widgets/controls",
          "model_name": "FloatProgressModel",
          "model_module_version": "1.5.0",
          "state": {
            "_dom_classes": [],
            "_model_module": "@jupyter-widgets/controls",
            "_model_module_version": "1.5.0",
            "_model_name": "FloatProgressModel",
            "_view_count": null,
            "_view_module": "@jupyter-widgets/controls",
            "_view_module_version": "1.5.0",
            "_view_name": "ProgressView",
            "bar_style": "",
            "description": "",
            "description_tooltip": null,
            "layout": "IPY_MODEL_b3f8395bfde045b4b6b34f6b028e3b72",
            "max": 3,
            "min": 0,
            "orientation": "horizontal",
            "style": "IPY_MODEL_32d524f51b1c45c6ae00216fb23723d6",
            "value": 3
          }
        },
        "2ca563b35a554dda91e55a3c015bb270": {
          "model_module": "@jupyter-widgets/controls",
          "model_name": "HTMLModel",
          "model_module_version": "1.5.0",
          "state": {
            "_dom_classes": [],
            "_model_module": "@jupyter-widgets/controls",
            "_model_module_version": "1.5.0",
            "_model_name": "HTMLModel",
            "_view_count": null,
            "_view_module": "@jupyter-widgets/controls",
            "_view_module_version": "1.5.0",
            "_view_name": "HTMLView",
            "description": "",
            "description_tooltip": null,
            "layout": "IPY_MODEL_81234658c79249c898e2e6f6c955f850",
            "placeholder": "​",
            "style": "IPY_MODEL_5362796c123640d789eba407968f00c2",
            "value": " 3/3 [08:37&lt;00:00, 212.56s/ splits]"
          }
        },
        "26012cf0f07145879d0b55cd97bfee2a": {
          "model_module": "@jupyter-widgets/base",
          "model_name": "LayoutModel",
          "model_module_version": "1.2.0",
          "state": {
            "_model_module": "@jupyter-widgets/base",
            "_model_module_version": "1.2.0",
            "_model_name": "LayoutModel",
            "_view_count": null,
            "_view_module": "@jupyter-widgets/base",
            "_view_module_version": "1.2.0",
            "_view_name": "LayoutView",
            "align_content": null,
            "align_items": null,
            "align_self": null,
            "border": null,
            "bottom": null,
            "display": null,
            "flex": null,
            "flex_flow": null,
            "grid_area": null,
            "grid_auto_columns": null,
            "grid_auto_flow": null,
            "grid_auto_rows": null,
            "grid_column": null,
            "grid_gap": null,
            "grid_row": null,
            "grid_template_areas": null,
            "grid_template_columns": null,
            "grid_template_rows": null,
            "height": null,
            "justify_content": null,
            "justify_items": null,
            "left": null,
            "margin": null,
            "max_height": null,
            "max_width": null,
            "min_height": null,
            "min_width": null,
            "object_fit": null,
            "object_position": null,
            "order": null,
            "overflow": null,
            "overflow_x": null,
            "overflow_y": null,
            "padding": null,
            "right": null,
            "top": null,
            "visibility": "hidden",
            "width": null
          }
        },
        "48443785e6db45fa9def16c7a1a3ce85": {
          "model_module": "@jupyter-widgets/base",
          "model_name": "LayoutModel",
          "model_module_version": "1.2.0",
          "state": {
            "_model_module": "@jupyter-widgets/base",
            "_model_module_version": "1.2.0",
            "_model_name": "LayoutModel",
            "_view_count": null,
            "_view_module": "@jupyter-widgets/base",
            "_view_module_version": "1.2.0",
            "_view_name": "LayoutView",
            "align_content": null,
            "align_items": null,
            "align_self": null,
            "border": null,
            "bottom": null,
            "display": null,
            "flex": null,
            "flex_flow": null,
            "grid_area": null,
            "grid_auto_columns": null,
            "grid_auto_flow": null,
            "grid_auto_rows": null,
            "grid_column": null,
            "grid_gap": null,
            "grid_row": null,
            "grid_template_areas": null,
            "grid_template_columns": null,
            "grid_template_rows": null,
            "height": null,
            "justify_content": null,
            "justify_items": null,
            "left": null,
            "margin": null,
            "max_height": null,
            "max_width": null,
            "min_height": null,
            "min_width": null,
            "object_fit": null,
            "object_position": null,
            "order": null,
            "overflow": null,
            "overflow_x": null,
            "overflow_y": null,
            "padding": null,
            "right": null,
            "top": null,
            "visibility": null,
            "width": null
          }
        },
        "3a13560207404f53b229fbd936bdf226": {
          "model_module": "@jupyter-widgets/controls",
          "model_name": "DescriptionStyleModel",
          "model_module_version": "1.5.0",
          "state": {
            "_model_module": "@jupyter-widgets/controls",
            "_model_module_version": "1.5.0",
            "_model_name": "DescriptionStyleModel",
            "_view_count": null,
            "_view_module": "@jupyter-widgets/base",
            "_view_module_version": "1.2.0",
            "_view_name": "StyleView",
            "description_width": ""
          }
        },
        "b3f8395bfde045b4b6b34f6b028e3b72": {
          "model_module": "@jupyter-widgets/base",
          "model_name": "LayoutModel",
          "model_module_version": "1.2.0",
          "state": {
            "_model_module": "@jupyter-widgets/base",
            "_model_module_version": "1.2.0",
            "_model_name": "LayoutModel",
            "_view_count": null,
            "_view_module": "@jupyter-widgets/base",
            "_view_module_version": "1.2.0",
            "_view_name": "LayoutView",
            "align_content": null,
            "align_items": null,
            "align_self": null,
            "border": null,
            "bottom": null,
            "display": null,
            "flex": null,
            "flex_flow": null,
            "grid_area": null,
            "grid_auto_columns": null,
            "grid_auto_flow": null,
            "grid_auto_rows": null,
            "grid_column": null,
            "grid_gap": null,
            "grid_row": null,
            "grid_template_areas": null,
            "grid_template_columns": null,
            "grid_template_rows": null,
            "height": null,
            "justify_content": null,
            "justify_items": null,
            "left": null,
            "margin": null,
            "max_height": null,
            "max_width": null,
            "min_height": null,
            "min_width": null,
            "object_fit": null,
            "object_position": null,
            "order": null,
            "overflow": null,
            "overflow_x": null,
            "overflow_y": null,
            "padding": null,
            "right": null,
            "top": null,
            "visibility": null,
            "width": null
          }
        },
        "32d524f51b1c45c6ae00216fb23723d6": {
          "model_module": "@jupyter-widgets/controls",
          "model_name": "ProgressStyleModel",
          "model_module_version": "1.5.0",
          "state": {
            "_model_module": "@jupyter-widgets/controls",
            "_model_module_version": "1.5.0",
            "_model_name": "ProgressStyleModel",
            "_view_count": null,
            "_view_module": "@jupyter-widgets/base",
            "_view_module_version": "1.2.0",
            "_view_name": "StyleView",
            "bar_color": null,
            "description_width": ""
          }
        },
        "81234658c79249c898e2e6f6c955f850": {
          "model_module": "@jupyter-widgets/base",
          "model_name": "LayoutModel",
          "model_module_version": "1.2.0",
          "state": {
            "_model_module": "@jupyter-widgets/base",
            "_model_module_version": "1.2.0",
            "_model_name": "LayoutModel",
            "_view_count": null,
            "_view_module": "@jupyter-widgets/base",
            "_view_module_version": "1.2.0",
            "_view_name": "LayoutView",
            "align_content": null,
            "align_items": null,
            "align_self": null,
            "border": null,
            "bottom": null,
            "display": null,
            "flex": null,
            "flex_flow": null,
            "grid_area": null,
            "grid_auto_columns": null,
            "grid_auto_flow": null,
            "grid_auto_rows": null,
            "grid_column": null,
            "grid_gap": null,
            "grid_row": null,
            "grid_template_areas": null,
            "grid_template_columns": null,
            "grid_template_rows": null,
            "height": null,
            "justify_content": null,
            "justify_items": null,
            "left": null,
            "margin": null,
            "max_height": null,
            "max_width": null,
            "min_height": null,
            "min_width": null,
            "object_fit": null,
            "object_position": null,
            "order": null,
            "overflow": null,
            "overflow_x": null,
            "overflow_y": null,
            "padding": null,
            "right": null,
            "top": null,
            "visibility": null,
            "width": null
          }
        },
        "5362796c123640d789eba407968f00c2": {
          "model_module": "@jupyter-widgets/controls",
          "model_name": "DescriptionStyleModel",
          "model_module_version": "1.5.0",
          "state": {
            "_model_module": "@jupyter-widgets/controls",
            "_model_module_version": "1.5.0",
            "_model_name": "DescriptionStyleModel",
            "_view_count": null,
            "_view_module": "@jupyter-widgets/base",
            "_view_module_version": "1.2.0",
            "_view_name": "StyleView",
            "description_width": ""
          }
        },
        "c48435bfd6e64ca7aa97d47b99631302": {
          "model_module": "@jupyter-widgets/controls",
          "model_name": "HBoxModel",
          "model_module_version": "1.5.0",
          "state": {
            "_dom_classes": [],
            "_model_module": "@jupyter-widgets/controls",
            "_model_module_version": "1.5.0",
            "_model_name": "HBoxModel",
            "_view_count": null,
            "_view_module": "@jupyter-widgets/controls",
            "_view_module_version": "1.5.0",
            "_view_name": "HBoxView",
            "box_style": "",
            "children": [
              "IPY_MODEL_3afcbbe508014dea84bb6ae966a91139",
              "IPY_MODEL_25737d5e15d54dd1a39993d63068a42e",
              "IPY_MODEL_b069607f4a854bf08afd23833ae9fea0"
            ],
            "layout": "IPY_MODEL_e1065e74fc5146c69759fe95e6b326ce"
          }
        },
        "3afcbbe508014dea84bb6ae966a91139": {
          "model_module": "@jupyter-widgets/controls",
          "model_name": "HTMLModel",
          "model_module_version": "1.5.0",
          "state": {
            "_dom_classes": [],
            "_model_module": "@jupyter-widgets/controls",
            "_model_module_version": "1.5.0",
            "_model_name": "HTMLModel",
            "_view_count": null,
            "_view_module": "@jupyter-widgets/controls",
            "_view_module_version": "1.5.0",
            "_view_name": "HTMLView",
            "description": "",
            "description_tooltip": null,
            "layout": "IPY_MODEL_0fbf4bf82db44ddb8699312d51343d92",
            "placeholder": "​",
            "style": "IPY_MODEL_14d134ad87a247f89cb9c59983353e91",
            "value": "Generating train examples...: 100%"
          }
        },
        "25737d5e15d54dd1a39993d63068a42e": {
          "model_module": "@jupyter-widgets/controls",
          "model_name": "FloatProgressModel",
          "model_module_version": "1.5.0",
          "state": {
            "_dom_classes": [],
            "_model_module": "@jupyter-widgets/controls",
            "_model_module_version": "1.5.0",
            "_model_name": "FloatProgressModel",
            "_view_count": null,
            "_view_module": "@jupyter-widgets/controls",
            "_view_module_version": "1.5.0",
            "_view_name": "ProgressView",
            "bar_style": "",
            "description": "",
            "description_tooltip": null,
            "layout": "IPY_MODEL_eed010362ed842a38d47b4858013d25a",
            "max": 73257,
            "min": 0,
            "orientation": "horizontal",
            "style": "IPY_MODEL_b90fd641e67b4ea2b01a85f4fd50e258",
            "value": 73257
          }
        },
        "b069607f4a854bf08afd23833ae9fea0": {
          "model_module": "@jupyter-widgets/controls",
          "model_name": "HTMLModel",
          "model_module_version": "1.5.0",
          "state": {
            "_dom_classes": [],
            "_model_module": "@jupyter-widgets/controls",
            "_model_module_version": "1.5.0",
            "_model_name": "HTMLModel",
            "_view_count": null,
            "_view_module": "@jupyter-widgets/controls",
            "_view_module_version": "1.5.0",
            "_view_name": "HTMLView",
            "description": "",
            "description_tooltip": null,
            "layout": "IPY_MODEL_853c2234afd7477087a85d8d7b155361",
            "placeholder": "​",
            "style": "IPY_MODEL_81fa565d62f242719f2664274003fb7a",
            "value": " 73199/73257 [01:24&lt;00:00, 900.65 examples/s]"
          }
        },
        "e1065e74fc5146c69759fe95e6b326ce": {
          "model_module": "@jupyter-widgets/base",
          "model_name": "LayoutModel",
          "model_module_version": "1.2.0",
          "state": {
            "_model_module": "@jupyter-widgets/base",
            "_model_module_version": "1.2.0",
            "_model_name": "LayoutModel",
            "_view_count": null,
            "_view_module": "@jupyter-widgets/base",
            "_view_module_version": "1.2.0",
            "_view_name": "LayoutView",
            "align_content": null,
            "align_items": null,
            "align_self": null,
            "border": null,
            "bottom": null,
            "display": null,
            "flex": null,
            "flex_flow": null,
            "grid_area": null,
            "grid_auto_columns": null,
            "grid_auto_flow": null,
            "grid_auto_rows": null,
            "grid_column": null,
            "grid_gap": null,
            "grid_row": null,
            "grid_template_areas": null,
            "grid_template_columns": null,
            "grid_template_rows": null,
            "height": null,
            "justify_content": null,
            "justify_items": null,
            "left": null,
            "margin": null,
            "max_height": null,
            "max_width": null,
            "min_height": null,
            "min_width": null,
            "object_fit": null,
            "object_position": null,
            "order": null,
            "overflow": null,
            "overflow_x": null,
            "overflow_y": null,
            "padding": null,
            "right": null,
            "top": null,
            "visibility": "hidden",
            "width": null
          }
        },
        "0fbf4bf82db44ddb8699312d51343d92": {
          "model_module": "@jupyter-widgets/base",
          "model_name": "LayoutModel",
          "model_module_version": "1.2.0",
          "state": {
            "_model_module": "@jupyter-widgets/base",
            "_model_module_version": "1.2.0",
            "_model_name": "LayoutModel",
            "_view_count": null,
            "_view_module": "@jupyter-widgets/base",
            "_view_module_version": "1.2.0",
            "_view_name": "LayoutView",
            "align_content": null,
            "align_items": null,
            "align_self": null,
            "border": null,
            "bottom": null,
            "display": null,
            "flex": null,
            "flex_flow": null,
            "grid_area": null,
            "grid_auto_columns": null,
            "grid_auto_flow": null,
            "grid_auto_rows": null,
            "grid_column": null,
            "grid_gap": null,
            "grid_row": null,
            "grid_template_areas": null,
            "grid_template_columns": null,
            "grid_template_rows": null,
            "height": null,
            "justify_content": null,
            "justify_items": null,
            "left": null,
            "margin": null,
            "max_height": null,
            "max_width": null,
            "min_height": null,
            "min_width": null,
            "object_fit": null,
            "object_position": null,
            "order": null,
            "overflow": null,
            "overflow_x": null,
            "overflow_y": null,
            "padding": null,
            "right": null,
            "top": null,
            "visibility": null,
            "width": null
          }
        },
        "14d134ad87a247f89cb9c59983353e91": {
          "model_module": "@jupyter-widgets/controls",
          "model_name": "DescriptionStyleModel",
          "model_module_version": "1.5.0",
          "state": {
            "_model_module": "@jupyter-widgets/controls",
            "_model_module_version": "1.5.0",
            "_model_name": "DescriptionStyleModel",
            "_view_count": null,
            "_view_module": "@jupyter-widgets/base",
            "_view_module_version": "1.2.0",
            "_view_name": "StyleView",
            "description_width": ""
          }
        },
        "eed010362ed842a38d47b4858013d25a": {
          "model_module": "@jupyter-widgets/base",
          "model_name": "LayoutModel",
          "model_module_version": "1.2.0",
          "state": {
            "_model_module": "@jupyter-widgets/base",
            "_model_module_version": "1.2.0",
            "_model_name": "LayoutModel",
            "_view_count": null,
            "_view_module": "@jupyter-widgets/base",
            "_view_module_version": "1.2.0",
            "_view_name": "LayoutView",
            "align_content": null,
            "align_items": null,
            "align_self": null,
            "border": null,
            "bottom": null,
            "display": null,
            "flex": null,
            "flex_flow": null,
            "grid_area": null,
            "grid_auto_columns": null,
            "grid_auto_flow": null,
            "grid_auto_rows": null,
            "grid_column": null,
            "grid_gap": null,
            "grid_row": null,
            "grid_template_areas": null,
            "grid_template_columns": null,
            "grid_template_rows": null,
            "height": null,
            "justify_content": null,
            "justify_items": null,
            "left": null,
            "margin": null,
            "max_height": null,
            "max_width": null,
            "min_height": null,
            "min_width": null,
            "object_fit": null,
            "object_position": null,
            "order": null,
            "overflow": null,
            "overflow_x": null,
            "overflow_y": null,
            "padding": null,
            "right": null,
            "top": null,
            "visibility": null,
            "width": null
          }
        },
        "b90fd641e67b4ea2b01a85f4fd50e258": {
          "model_module": "@jupyter-widgets/controls",
          "model_name": "ProgressStyleModel",
          "model_module_version": "1.5.0",
          "state": {
            "_model_module": "@jupyter-widgets/controls",
            "_model_module_version": "1.5.0",
            "_model_name": "ProgressStyleModel",
            "_view_count": null,
            "_view_module": "@jupyter-widgets/base",
            "_view_module_version": "1.2.0",
            "_view_name": "StyleView",
            "bar_color": null,
            "description_width": ""
          }
        },
        "853c2234afd7477087a85d8d7b155361": {
          "model_module": "@jupyter-widgets/base",
          "model_name": "LayoutModel",
          "model_module_version": "1.2.0",
          "state": {
            "_model_module": "@jupyter-widgets/base",
            "_model_module_version": "1.2.0",
            "_model_name": "LayoutModel",
            "_view_count": null,
            "_view_module": "@jupyter-widgets/base",
            "_view_module_version": "1.2.0",
            "_view_name": "LayoutView",
            "align_content": null,
            "align_items": null,
            "align_self": null,
            "border": null,
            "bottom": null,
            "display": null,
            "flex": null,
            "flex_flow": null,
            "grid_area": null,
            "grid_auto_columns": null,
            "grid_auto_flow": null,
            "grid_auto_rows": null,
            "grid_column": null,
            "grid_gap": null,
            "grid_row": null,
            "grid_template_areas": null,
            "grid_template_columns": null,
            "grid_template_rows": null,
            "height": null,
            "justify_content": null,
            "justify_items": null,
            "left": null,
            "margin": null,
            "max_height": null,
            "max_width": null,
            "min_height": null,
            "min_width": null,
            "object_fit": null,
            "object_position": null,
            "order": null,
            "overflow": null,
            "overflow_x": null,
            "overflow_y": null,
            "padding": null,
            "right": null,
            "top": null,
            "visibility": null,
            "width": null
          }
        },
        "81fa565d62f242719f2664274003fb7a": {
          "model_module": "@jupyter-widgets/controls",
          "model_name": "DescriptionStyleModel",
          "model_module_version": "1.5.0",
          "state": {
            "_model_module": "@jupyter-widgets/controls",
            "_model_module_version": "1.5.0",
            "_model_name": "DescriptionStyleModel",
            "_view_count": null,
            "_view_module": "@jupyter-widgets/base",
            "_view_module_version": "1.2.0",
            "_view_name": "StyleView",
            "description_width": ""
          }
        },
        "eb348b8b4c094a1eb37331bd25d09bf5": {
          "model_module": "@jupyter-widgets/controls",
          "model_name": "HBoxModel",
          "model_module_version": "1.5.0",
          "state": {
            "_dom_classes": [],
            "_model_module": "@jupyter-widgets/controls",
            "_model_module_version": "1.5.0",
            "_model_name": "HBoxModel",
            "_view_count": null,
            "_view_module": "@jupyter-widgets/controls",
            "_view_module_version": "1.5.0",
            "_view_name": "HBoxView",
            "box_style": "",
            "children": [
              "IPY_MODEL_c840036aade248e8be791f76a0e33bd0",
              "IPY_MODEL_97f15c3e858a4fa5b54a92009a3515ad",
              "IPY_MODEL_1c197a6049404073bd8257e6758d46bf"
            ],
            "layout": "IPY_MODEL_55acc86f34634544992a3513934f342a"
          }
        },
        "c840036aade248e8be791f76a0e33bd0": {
          "model_module": "@jupyter-widgets/controls",
          "model_name": "HTMLModel",
          "model_module_version": "1.5.0",
          "state": {
            "_dom_classes": [],
            "_model_module": "@jupyter-widgets/controls",
            "_model_module_version": "1.5.0",
            "_model_name": "HTMLModel",
            "_view_count": null,
            "_view_module": "@jupyter-widgets/controls",
            "_view_module_version": "1.5.0",
            "_view_name": "HTMLView",
            "description": "",
            "description_tooltip": null,
            "layout": "IPY_MODEL_cfbaaf4d4cb540dea8f7d0596358e509",
            "placeholder": "​",
            "style": "IPY_MODEL_6013244b97b04d5e887e2fdb4fe36dca",
            "value": "Shuffling /root/tensorflow_datasets/svhn_cropped/3.0.0.incompleteJKI57Q/svhn_cropped-train.tfrecord*...:  98%"
          }
        },
        "97f15c3e858a4fa5b54a92009a3515ad": {
          "model_module": "@jupyter-widgets/controls",
          "model_name": "FloatProgressModel",
          "model_module_version": "1.5.0",
          "state": {
            "_dom_classes": [],
            "_model_module": "@jupyter-widgets/controls",
            "_model_module_version": "1.5.0",
            "_model_name": "FloatProgressModel",
            "_view_count": null,
            "_view_module": "@jupyter-widgets/controls",
            "_view_module_version": "1.5.0",
            "_view_name": "ProgressView",
            "bar_style": "",
            "description": "",
            "description_tooltip": null,
            "layout": "IPY_MODEL_188b8f1cbbff4e1f819cf59d6ea407c1",
            "max": 73257,
            "min": 0,
            "orientation": "horizontal",
            "style": "IPY_MODEL_5c9e2d85376b451e9a1264ea97873d0a",
            "value": 73257
          }
        },
        "1c197a6049404073bd8257e6758d46bf": {
          "model_module": "@jupyter-widgets/controls",
          "model_name": "HTMLModel",
          "model_module_version": "1.5.0",
          "state": {
            "_dom_classes": [],
            "_model_module": "@jupyter-widgets/controls",
            "_model_module_version": "1.5.0",
            "_model_name": "HTMLModel",
            "_view_count": null,
            "_view_module": "@jupyter-widgets/controls",
            "_view_module_version": "1.5.0",
            "_view_name": "HTMLView",
            "description": "",
            "description_tooltip": null,
            "layout": "IPY_MODEL_9cc9546a6cb443a1938a6cbbbd813973",
            "placeholder": "​",
            "style": "IPY_MODEL_4f9a7287940346d29ba8e3f342a885ef",
            "value": " 71956/73257 [00:01&lt;00:00, 50710.20 examples/s]"
          }
        },
        "55acc86f34634544992a3513934f342a": {
          "model_module": "@jupyter-widgets/base",
          "model_name": "LayoutModel",
          "model_module_version": "1.2.0",
          "state": {
            "_model_module": "@jupyter-widgets/base",
            "_model_module_version": "1.2.0",
            "_model_name": "LayoutModel",
            "_view_count": null,
            "_view_module": "@jupyter-widgets/base",
            "_view_module_version": "1.2.0",
            "_view_name": "LayoutView",
            "align_content": null,
            "align_items": null,
            "align_self": null,
            "border": null,
            "bottom": null,
            "display": null,
            "flex": null,
            "flex_flow": null,
            "grid_area": null,
            "grid_auto_columns": null,
            "grid_auto_flow": null,
            "grid_auto_rows": null,
            "grid_column": null,
            "grid_gap": null,
            "grid_row": null,
            "grid_template_areas": null,
            "grid_template_columns": null,
            "grid_template_rows": null,
            "height": null,
            "justify_content": null,
            "justify_items": null,
            "left": null,
            "margin": null,
            "max_height": null,
            "max_width": null,
            "min_height": null,
            "min_width": null,
            "object_fit": null,
            "object_position": null,
            "order": null,
            "overflow": null,
            "overflow_x": null,
            "overflow_y": null,
            "padding": null,
            "right": null,
            "top": null,
            "visibility": "hidden",
            "width": null
          }
        },
        "cfbaaf4d4cb540dea8f7d0596358e509": {
          "model_module": "@jupyter-widgets/base",
          "model_name": "LayoutModel",
          "model_module_version": "1.2.0",
          "state": {
            "_model_module": "@jupyter-widgets/base",
            "_model_module_version": "1.2.0",
            "_model_name": "LayoutModel",
            "_view_count": null,
            "_view_module": "@jupyter-widgets/base",
            "_view_module_version": "1.2.0",
            "_view_name": "LayoutView",
            "align_content": null,
            "align_items": null,
            "align_self": null,
            "border": null,
            "bottom": null,
            "display": null,
            "flex": null,
            "flex_flow": null,
            "grid_area": null,
            "grid_auto_columns": null,
            "grid_auto_flow": null,
            "grid_auto_rows": null,
            "grid_column": null,
            "grid_gap": null,
            "grid_row": null,
            "grid_template_areas": null,
            "grid_template_columns": null,
            "grid_template_rows": null,
            "height": null,
            "justify_content": null,
            "justify_items": null,
            "left": null,
            "margin": null,
            "max_height": null,
            "max_width": null,
            "min_height": null,
            "min_width": null,
            "object_fit": null,
            "object_position": null,
            "order": null,
            "overflow": null,
            "overflow_x": null,
            "overflow_y": null,
            "padding": null,
            "right": null,
            "top": null,
            "visibility": null,
            "width": null
          }
        },
        "6013244b97b04d5e887e2fdb4fe36dca": {
          "model_module": "@jupyter-widgets/controls",
          "model_name": "DescriptionStyleModel",
          "model_module_version": "1.5.0",
          "state": {
            "_model_module": "@jupyter-widgets/controls",
            "_model_module_version": "1.5.0",
            "_model_name": "DescriptionStyleModel",
            "_view_count": null,
            "_view_module": "@jupyter-widgets/base",
            "_view_module_version": "1.2.0",
            "_view_name": "StyleView",
            "description_width": ""
          }
        },
        "188b8f1cbbff4e1f819cf59d6ea407c1": {
          "model_module": "@jupyter-widgets/base",
          "model_name": "LayoutModel",
          "model_module_version": "1.2.0",
          "state": {
            "_model_module": "@jupyter-widgets/base",
            "_model_module_version": "1.2.0",
            "_model_name": "LayoutModel",
            "_view_count": null,
            "_view_module": "@jupyter-widgets/base",
            "_view_module_version": "1.2.0",
            "_view_name": "LayoutView",
            "align_content": null,
            "align_items": null,
            "align_self": null,
            "border": null,
            "bottom": null,
            "display": null,
            "flex": null,
            "flex_flow": null,
            "grid_area": null,
            "grid_auto_columns": null,
            "grid_auto_flow": null,
            "grid_auto_rows": null,
            "grid_column": null,
            "grid_gap": null,
            "grid_row": null,
            "grid_template_areas": null,
            "grid_template_columns": null,
            "grid_template_rows": null,
            "height": null,
            "justify_content": null,
            "justify_items": null,
            "left": null,
            "margin": null,
            "max_height": null,
            "max_width": null,
            "min_height": null,
            "min_width": null,
            "object_fit": null,
            "object_position": null,
            "order": null,
            "overflow": null,
            "overflow_x": null,
            "overflow_y": null,
            "padding": null,
            "right": null,
            "top": null,
            "visibility": null,
            "width": null
          }
        },
        "5c9e2d85376b451e9a1264ea97873d0a": {
          "model_module": "@jupyter-widgets/controls",
          "model_name": "ProgressStyleModel",
          "model_module_version": "1.5.0",
          "state": {
            "_model_module": "@jupyter-widgets/controls",
            "_model_module_version": "1.5.0",
            "_model_name": "ProgressStyleModel",
            "_view_count": null,
            "_view_module": "@jupyter-widgets/base",
            "_view_module_version": "1.2.0",
            "_view_name": "StyleView",
            "bar_color": null,
            "description_width": ""
          }
        },
        "9cc9546a6cb443a1938a6cbbbd813973": {
          "model_module": "@jupyter-widgets/base",
          "model_name": "LayoutModel",
          "model_module_version": "1.2.0",
          "state": {
            "_model_module": "@jupyter-widgets/base",
            "_model_module_version": "1.2.0",
            "_model_name": "LayoutModel",
            "_view_count": null,
            "_view_module": "@jupyter-widgets/base",
            "_view_module_version": "1.2.0",
            "_view_name": "LayoutView",
            "align_content": null,
            "align_items": null,
            "align_self": null,
            "border": null,
            "bottom": null,
            "display": null,
            "flex": null,
            "flex_flow": null,
            "grid_area": null,
            "grid_auto_columns": null,
            "grid_auto_flow": null,
            "grid_auto_rows": null,
            "grid_column": null,
            "grid_gap": null,
            "grid_row": null,
            "grid_template_areas": null,
            "grid_template_columns": null,
            "grid_template_rows": null,
            "height": null,
            "justify_content": null,
            "justify_items": null,
            "left": null,
            "margin": null,
            "max_height": null,
            "max_width": null,
            "min_height": null,
            "min_width": null,
            "object_fit": null,
            "object_position": null,
            "order": null,
            "overflow": null,
            "overflow_x": null,
            "overflow_y": null,
            "padding": null,
            "right": null,
            "top": null,
            "visibility": null,
            "width": null
          }
        },
        "4f9a7287940346d29ba8e3f342a885ef": {
          "model_module": "@jupyter-widgets/controls",
          "model_name": "DescriptionStyleModel",
          "model_module_version": "1.5.0",
          "state": {
            "_model_module": "@jupyter-widgets/controls",
            "_model_module_version": "1.5.0",
            "_model_name": "DescriptionStyleModel",
            "_view_count": null,
            "_view_module": "@jupyter-widgets/base",
            "_view_module_version": "1.2.0",
            "_view_name": "StyleView",
            "description_width": ""
          }
        },
        "7ee0ffd30b78417b950394d1faaea598": {
          "model_module": "@jupyter-widgets/controls",
          "model_name": "HBoxModel",
          "model_module_version": "1.5.0",
          "state": {
            "_dom_classes": [],
            "_model_module": "@jupyter-widgets/controls",
            "_model_module_version": "1.5.0",
            "_model_name": "HBoxModel",
            "_view_count": null,
            "_view_module": "@jupyter-widgets/controls",
            "_view_module_version": "1.5.0",
            "_view_name": "HBoxView",
            "box_style": "",
            "children": [
              "IPY_MODEL_4e49d53327e74cd4bb82163ead647518",
              "IPY_MODEL_ddc5a4621f07492e9f908fe13aa96d44",
              "IPY_MODEL_739db41bf16d4df0b46d3e504b7b4c76"
            ],
            "layout": "IPY_MODEL_ef71566076b6415faf0d1552d6f65de6"
          }
        },
        "4e49d53327e74cd4bb82163ead647518": {
          "model_module": "@jupyter-widgets/controls",
          "model_name": "HTMLModel",
          "model_module_version": "1.5.0",
          "state": {
            "_dom_classes": [],
            "_model_module": "@jupyter-widgets/controls",
            "_model_module_version": "1.5.0",
            "_model_name": "HTMLModel",
            "_view_count": null,
            "_view_module": "@jupyter-widgets/controls",
            "_view_module_version": "1.5.0",
            "_view_name": "HTMLView",
            "description": "",
            "description_tooltip": null,
            "layout": "IPY_MODEL_b26e84ffe1d24dfcae42c74a0449cab6",
            "placeholder": "​",
            "style": "IPY_MODEL_29d867a0637646cd9b5d7580f60bd930",
            "value": "Generating test examples...:  99%"
          }
        },
        "ddc5a4621f07492e9f908fe13aa96d44": {
          "model_module": "@jupyter-widgets/controls",
          "model_name": "FloatProgressModel",
          "model_module_version": "1.5.0",
          "state": {
            "_dom_classes": [],
            "_model_module": "@jupyter-widgets/controls",
            "_model_module_version": "1.5.0",
            "_model_name": "FloatProgressModel",
            "_view_count": null,
            "_view_module": "@jupyter-widgets/controls",
            "_view_module_version": "1.5.0",
            "_view_name": "ProgressView",
            "bar_style": "",
            "description": "",
            "description_tooltip": null,
            "layout": "IPY_MODEL_e7d0560dc7f64b3bb9b7d8107a1a2473",
            "max": 26032,
            "min": 0,
            "orientation": "horizontal",
            "style": "IPY_MODEL_5b55d29dd5ed4993b8cc0fd13378d0eb",
            "value": 26032
          }
        },
        "739db41bf16d4df0b46d3e504b7b4c76": {
          "model_module": "@jupyter-widgets/controls",
          "model_name": "HTMLModel",
          "model_module_version": "1.5.0",
          "state": {
            "_dom_classes": [],
            "_model_module": "@jupyter-widgets/controls",
            "_model_module_version": "1.5.0",
            "_model_name": "HTMLModel",
            "_view_count": null,
            "_view_module": "@jupyter-widgets/controls",
            "_view_module_version": "1.5.0",
            "_view_name": "HTMLView",
            "description": "",
            "description_tooltip": null,
            "layout": "IPY_MODEL_854fd6b8982d4b86adae1e8afdf80619",
            "placeholder": "​",
            "style": "IPY_MODEL_c1f17dddc5b54e058389e62306138753",
            "value": " 25876/26032 [00:26&lt;00:00, 1375.21 examples/s]"
          }
        },
        "ef71566076b6415faf0d1552d6f65de6": {
          "model_module": "@jupyter-widgets/base",
          "model_name": "LayoutModel",
          "model_module_version": "1.2.0",
          "state": {
            "_model_module": "@jupyter-widgets/base",
            "_model_module_version": "1.2.0",
            "_model_name": "LayoutModel",
            "_view_count": null,
            "_view_module": "@jupyter-widgets/base",
            "_view_module_version": "1.2.0",
            "_view_name": "LayoutView",
            "align_content": null,
            "align_items": null,
            "align_self": null,
            "border": null,
            "bottom": null,
            "display": null,
            "flex": null,
            "flex_flow": null,
            "grid_area": null,
            "grid_auto_columns": null,
            "grid_auto_flow": null,
            "grid_auto_rows": null,
            "grid_column": null,
            "grid_gap": null,
            "grid_row": null,
            "grid_template_areas": null,
            "grid_template_columns": null,
            "grid_template_rows": null,
            "height": null,
            "justify_content": null,
            "justify_items": null,
            "left": null,
            "margin": null,
            "max_height": null,
            "max_width": null,
            "min_height": null,
            "min_width": null,
            "object_fit": null,
            "object_position": null,
            "order": null,
            "overflow": null,
            "overflow_x": null,
            "overflow_y": null,
            "padding": null,
            "right": null,
            "top": null,
            "visibility": "hidden",
            "width": null
          }
        },
        "b26e84ffe1d24dfcae42c74a0449cab6": {
          "model_module": "@jupyter-widgets/base",
          "model_name": "LayoutModel",
          "model_module_version": "1.2.0",
          "state": {
            "_model_module": "@jupyter-widgets/base",
            "_model_module_version": "1.2.0",
            "_model_name": "LayoutModel",
            "_view_count": null,
            "_view_module": "@jupyter-widgets/base",
            "_view_module_version": "1.2.0",
            "_view_name": "LayoutView",
            "align_content": null,
            "align_items": null,
            "align_self": null,
            "border": null,
            "bottom": null,
            "display": null,
            "flex": null,
            "flex_flow": null,
            "grid_area": null,
            "grid_auto_columns": null,
            "grid_auto_flow": null,
            "grid_auto_rows": null,
            "grid_column": null,
            "grid_gap": null,
            "grid_row": null,
            "grid_template_areas": null,
            "grid_template_columns": null,
            "grid_template_rows": null,
            "height": null,
            "justify_content": null,
            "justify_items": null,
            "left": null,
            "margin": null,
            "max_height": null,
            "max_width": null,
            "min_height": null,
            "min_width": null,
            "object_fit": null,
            "object_position": null,
            "order": null,
            "overflow": null,
            "overflow_x": null,
            "overflow_y": null,
            "padding": null,
            "right": null,
            "top": null,
            "visibility": null,
            "width": null
          }
        },
        "29d867a0637646cd9b5d7580f60bd930": {
          "model_module": "@jupyter-widgets/controls",
          "model_name": "DescriptionStyleModel",
          "model_module_version": "1.5.0",
          "state": {
            "_model_module": "@jupyter-widgets/controls",
            "_model_module_version": "1.5.0",
            "_model_name": "DescriptionStyleModel",
            "_view_count": null,
            "_view_module": "@jupyter-widgets/base",
            "_view_module_version": "1.2.0",
            "_view_name": "StyleView",
            "description_width": ""
          }
        },
        "e7d0560dc7f64b3bb9b7d8107a1a2473": {
          "model_module": "@jupyter-widgets/base",
          "model_name": "LayoutModel",
          "model_module_version": "1.2.0",
          "state": {
            "_model_module": "@jupyter-widgets/base",
            "_model_module_version": "1.2.0",
            "_model_name": "LayoutModel",
            "_view_count": null,
            "_view_module": "@jupyter-widgets/base",
            "_view_module_version": "1.2.0",
            "_view_name": "LayoutView",
            "align_content": null,
            "align_items": null,
            "align_self": null,
            "border": null,
            "bottom": null,
            "display": null,
            "flex": null,
            "flex_flow": null,
            "grid_area": null,
            "grid_auto_columns": null,
            "grid_auto_flow": null,
            "grid_auto_rows": null,
            "grid_column": null,
            "grid_gap": null,
            "grid_row": null,
            "grid_template_areas": null,
            "grid_template_columns": null,
            "grid_template_rows": null,
            "height": null,
            "justify_content": null,
            "justify_items": null,
            "left": null,
            "margin": null,
            "max_height": null,
            "max_width": null,
            "min_height": null,
            "min_width": null,
            "object_fit": null,
            "object_position": null,
            "order": null,
            "overflow": null,
            "overflow_x": null,
            "overflow_y": null,
            "padding": null,
            "right": null,
            "top": null,
            "visibility": null,
            "width": null
          }
        },
        "5b55d29dd5ed4993b8cc0fd13378d0eb": {
          "model_module": "@jupyter-widgets/controls",
          "model_name": "ProgressStyleModel",
          "model_module_version": "1.5.0",
          "state": {
            "_model_module": "@jupyter-widgets/controls",
            "_model_module_version": "1.5.0",
            "_model_name": "ProgressStyleModel",
            "_view_count": null,
            "_view_module": "@jupyter-widgets/base",
            "_view_module_version": "1.2.0",
            "_view_name": "StyleView",
            "bar_color": null,
            "description_width": ""
          }
        },
        "854fd6b8982d4b86adae1e8afdf80619": {
          "model_module": "@jupyter-widgets/base",
          "model_name": "LayoutModel",
          "model_module_version": "1.2.0",
          "state": {
            "_model_module": "@jupyter-widgets/base",
            "_model_module_version": "1.2.0",
            "_model_name": "LayoutModel",
            "_view_count": null,
            "_view_module": "@jupyter-widgets/base",
            "_view_module_version": "1.2.0",
            "_view_name": "LayoutView",
            "align_content": null,
            "align_items": null,
            "align_self": null,
            "border": null,
            "bottom": null,
            "display": null,
            "flex": null,
            "flex_flow": null,
            "grid_area": null,
            "grid_auto_columns": null,
            "grid_auto_flow": null,
            "grid_auto_rows": null,
            "grid_column": null,
            "grid_gap": null,
            "grid_row": null,
            "grid_template_areas": null,
            "grid_template_columns": null,
            "grid_template_rows": null,
            "height": null,
            "justify_content": null,
            "justify_items": null,
            "left": null,
            "margin": null,
            "max_height": null,
            "max_width": null,
            "min_height": null,
            "min_width": null,
            "object_fit": null,
            "object_position": null,
            "order": null,
            "overflow": null,
            "overflow_x": null,
            "overflow_y": null,
            "padding": null,
            "right": null,
            "top": null,
            "visibility": null,
            "width": null
          }
        },
        "c1f17dddc5b54e058389e62306138753": {
          "model_module": "@jupyter-widgets/controls",
          "model_name": "DescriptionStyleModel",
          "model_module_version": "1.5.0",
          "state": {
            "_model_module": "@jupyter-widgets/controls",
            "_model_module_version": "1.5.0",
            "_model_name": "DescriptionStyleModel",
            "_view_count": null,
            "_view_module": "@jupyter-widgets/base",
            "_view_module_version": "1.2.0",
            "_view_name": "StyleView",
            "description_width": ""
          }
        },
        "b1943075da144fe8943865c14b9c1d22": {
          "model_module": "@jupyter-widgets/controls",
          "model_name": "HBoxModel",
          "model_module_version": "1.5.0",
          "state": {
            "_dom_classes": [],
            "_model_module": "@jupyter-widgets/controls",
            "_model_module_version": "1.5.0",
            "_model_name": "HBoxModel",
            "_view_count": null,
            "_view_module": "@jupyter-widgets/controls",
            "_view_module_version": "1.5.0",
            "_view_name": "HBoxView",
            "box_style": "",
            "children": [
              "IPY_MODEL_26dc05e681e444ee80535d5563868fb1",
              "IPY_MODEL_ca0705156a164bd592b9860f2b336427",
              "IPY_MODEL_696d99bd563d41ddacd86f1722ee94c3"
            ],
            "layout": "IPY_MODEL_23a0c28840004422be6dae9ac67a299d"
          }
        },
        "26dc05e681e444ee80535d5563868fb1": {
          "model_module": "@jupyter-widgets/controls",
          "model_name": "HTMLModel",
          "model_module_version": "1.5.0",
          "state": {
            "_dom_classes": [],
            "_model_module": "@jupyter-widgets/controls",
            "_model_module_version": "1.5.0",
            "_model_name": "HTMLModel",
            "_view_count": null,
            "_view_module": "@jupyter-widgets/controls",
            "_view_module_version": "1.5.0",
            "_view_name": "HTMLView",
            "description": "",
            "description_tooltip": null,
            "layout": "IPY_MODEL_0b39e73613f44e4abc0eb44c05462f6f",
            "placeholder": "​",
            "style": "IPY_MODEL_0959bae1af734fb49dc110c359a21016",
            "value": "Shuffling /root/tensorflow_datasets/svhn_cropped/3.0.0.incompleteJKI57Q/svhn_cropped-test.tfrecord*...:  86%"
          }
        },
        "ca0705156a164bd592b9860f2b336427": {
          "model_module": "@jupyter-widgets/controls",
          "model_name": "FloatProgressModel",
          "model_module_version": "1.5.0",
          "state": {
            "_dom_classes": [],
            "_model_module": "@jupyter-widgets/controls",
            "_model_module_version": "1.5.0",
            "_model_name": "FloatProgressModel",
            "_view_count": null,
            "_view_module": "@jupyter-widgets/controls",
            "_view_module_version": "1.5.0",
            "_view_name": "ProgressView",
            "bar_style": "",
            "description": "",
            "description_tooltip": null,
            "layout": "IPY_MODEL_3415236fbb1c4c7cb18b738419a31a8d",
            "max": 26032,
            "min": 0,
            "orientation": "horizontal",
            "style": "IPY_MODEL_70fc13a065594f86bb3d9e595d1a424b",
            "value": 26032
          }
        },
        "696d99bd563d41ddacd86f1722ee94c3": {
          "model_module": "@jupyter-widgets/controls",
          "model_name": "HTMLModel",
          "model_module_version": "1.5.0",
          "state": {
            "_dom_classes": [],
            "_model_module": "@jupyter-widgets/controls",
            "_model_module_version": "1.5.0",
            "_model_name": "HTMLModel",
            "_view_count": null,
            "_view_module": "@jupyter-widgets/controls",
            "_view_module_version": "1.5.0",
            "_view_name": "HTMLView",
            "description": "",
            "description_tooltip": null,
            "layout": "IPY_MODEL_3fa7cb79cf2c4d81803ce27a486b8356",
            "placeholder": "​",
            "style": "IPY_MODEL_4a7183e24cb2456c85a7a8a3a215368c",
            "value": " 22320/26032 [00:00&lt;00:00, 118984.32 examples/s]"
          }
        },
        "23a0c28840004422be6dae9ac67a299d": {
          "model_module": "@jupyter-widgets/base",
          "model_name": "LayoutModel",
          "model_module_version": "1.2.0",
          "state": {
            "_model_module": "@jupyter-widgets/base",
            "_model_module_version": "1.2.0",
            "_model_name": "LayoutModel",
            "_view_count": null,
            "_view_module": "@jupyter-widgets/base",
            "_view_module_version": "1.2.0",
            "_view_name": "LayoutView",
            "align_content": null,
            "align_items": null,
            "align_self": null,
            "border": null,
            "bottom": null,
            "display": null,
            "flex": null,
            "flex_flow": null,
            "grid_area": null,
            "grid_auto_columns": null,
            "grid_auto_flow": null,
            "grid_auto_rows": null,
            "grid_column": null,
            "grid_gap": null,
            "grid_row": null,
            "grid_template_areas": null,
            "grid_template_columns": null,
            "grid_template_rows": null,
            "height": null,
            "justify_content": null,
            "justify_items": null,
            "left": null,
            "margin": null,
            "max_height": null,
            "max_width": null,
            "min_height": null,
            "min_width": null,
            "object_fit": null,
            "object_position": null,
            "order": null,
            "overflow": null,
            "overflow_x": null,
            "overflow_y": null,
            "padding": null,
            "right": null,
            "top": null,
            "visibility": "hidden",
            "width": null
          }
        },
        "0b39e73613f44e4abc0eb44c05462f6f": {
          "model_module": "@jupyter-widgets/base",
          "model_name": "LayoutModel",
          "model_module_version": "1.2.0",
          "state": {
            "_model_module": "@jupyter-widgets/base",
            "_model_module_version": "1.2.0",
            "_model_name": "LayoutModel",
            "_view_count": null,
            "_view_module": "@jupyter-widgets/base",
            "_view_module_version": "1.2.0",
            "_view_name": "LayoutView",
            "align_content": null,
            "align_items": null,
            "align_self": null,
            "border": null,
            "bottom": null,
            "display": null,
            "flex": null,
            "flex_flow": null,
            "grid_area": null,
            "grid_auto_columns": null,
            "grid_auto_flow": null,
            "grid_auto_rows": null,
            "grid_column": null,
            "grid_gap": null,
            "grid_row": null,
            "grid_template_areas": null,
            "grid_template_columns": null,
            "grid_template_rows": null,
            "height": null,
            "justify_content": null,
            "justify_items": null,
            "left": null,
            "margin": null,
            "max_height": null,
            "max_width": null,
            "min_height": null,
            "min_width": null,
            "object_fit": null,
            "object_position": null,
            "order": null,
            "overflow": null,
            "overflow_x": null,
            "overflow_y": null,
            "padding": null,
            "right": null,
            "top": null,
            "visibility": null,
            "width": null
          }
        },
        "0959bae1af734fb49dc110c359a21016": {
          "model_module": "@jupyter-widgets/controls",
          "model_name": "DescriptionStyleModel",
          "model_module_version": "1.5.0",
          "state": {
            "_model_module": "@jupyter-widgets/controls",
            "_model_module_version": "1.5.0",
            "_model_name": "DescriptionStyleModel",
            "_view_count": null,
            "_view_module": "@jupyter-widgets/base",
            "_view_module_version": "1.2.0",
            "_view_name": "StyleView",
            "description_width": ""
          }
        },
        "3415236fbb1c4c7cb18b738419a31a8d": {
          "model_module": "@jupyter-widgets/base",
          "model_name": "LayoutModel",
          "model_module_version": "1.2.0",
          "state": {
            "_model_module": "@jupyter-widgets/base",
            "_model_module_version": "1.2.0",
            "_model_name": "LayoutModel",
            "_view_count": null,
            "_view_module": "@jupyter-widgets/base",
            "_view_module_version": "1.2.0",
            "_view_name": "LayoutView",
            "align_content": null,
            "align_items": null,
            "align_self": null,
            "border": null,
            "bottom": null,
            "display": null,
            "flex": null,
            "flex_flow": null,
            "grid_area": null,
            "grid_auto_columns": null,
            "grid_auto_flow": null,
            "grid_auto_rows": null,
            "grid_column": null,
            "grid_gap": null,
            "grid_row": null,
            "grid_template_areas": null,
            "grid_template_columns": null,
            "grid_template_rows": null,
            "height": null,
            "justify_content": null,
            "justify_items": null,
            "left": null,
            "margin": null,
            "max_height": null,
            "max_width": null,
            "min_height": null,
            "min_width": null,
            "object_fit": null,
            "object_position": null,
            "order": null,
            "overflow": null,
            "overflow_x": null,
            "overflow_y": null,
            "padding": null,
            "right": null,
            "top": null,
            "visibility": null,
            "width": null
          }
        },
        "70fc13a065594f86bb3d9e595d1a424b": {
          "model_module": "@jupyter-widgets/controls",
          "model_name": "ProgressStyleModel",
          "model_module_version": "1.5.0",
          "state": {
            "_model_module": "@jupyter-widgets/controls",
            "_model_module_version": "1.5.0",
            "_model_name": "ProgressStyleModel",
            "_view_count": null,
            "_view_module": "@jupyter-widgets/base",
            "_view_module_version": "1.2.0",
            "_view_name": "StyleView",
            "bar_color": null,
            "description_width": ""
          }
        },
        "3fa7cb79cf2c4d81803ce27a486b8356": {
          "model_module": "@jupyter-widgets/base",
          "model_name": "LayoutModel",
          "model_module_version": "1.2.0",
          "state": {
            "_model_module": "@jupyter-widgets/base",
            "_model_module_version": "1.2.0",
            "_model_name": "LayoutModel",
            "_view_count": null,
            "_view_module": "@jupyter-widgets/base",
            "_view_module_version": "1.2.0",
            "_view_name": "LayoutView",
            "align_content": null,
            "align_items": null,
            "align_self": null,
            "border": null,
            "bottom": null,
            "display": null,
            "flex": null,
            "flex_flow": null,
            "grid_area": null,
            "grid_auto_columns": null,
            "grid_auto_flow": null,
            "grid_auto_rows": null,
            "grid_column": null,
            "grid_gap": null,
            "grid_row": null,
            "grid_template_areas": null,
            "grid_template_columns": null,
            "grid_template_rows": null,
            "height": null,
            "justify_content": null,
            "justify_items": null,
            "left": null,
            "margin": null,
            "max_height": null,
            "max_width": null,
            "min_height": null,
            "min_width": null,
            "object_fit": null,
            "object_position": null,
            "order": null,
            "overflow": null,
            "overflow_x": null,
            "overflow_y": null,
            "padding": null,
            "right": null,
            "top": null,
            "visibility": null,
            "width": null
          }
        },
        "4a7183e24cb2456c85a7a8a3a215368c": {
          "model_module": "@jupyter-widgets/controls",
          "model_name": "DescriptionStyleModel",
          "model_module_version": "1.5.0",
          "state": {
            "_model_module": "@jupyter-widgets/controls",
            "_model_module_version": "1.5.0",
            "_model_name": "DescriptionStyleModel",
            "_view_count": null,
            "_view_module": "@jupyter-widgets/base",
            "_view_module_version": "1.2.0",
            "_view_name": "StyleView",
            "description_width": ""
          }
        },
        "981038797b9e4c46b7c65617352330de": {
          "model_module": "@jupyter-widgets/controls",
          "model_name": "HBoxModel",
          "model_module_version": "1.5.0",
          "state": {
            "_dom_classes": [],
            "_model_module": "@jupyter-widgets/controls",
            "_model_module_version": "1.5.0",
            "_model_name": "HBoxModel",
            "_view_count": null,
            "_view_module": "@jupyter-widgets/controls",
            "_view_module_version": "1.5.0",
            "_view_name": "HBoxView",
            "box_style": "",
            "children": [
              "IPY_MODEL_ed7fe476e11440db919848366cec674f",
              "IPY_MODEL_e7afe0500ce74bb1a571d462610d66a8",
              "IPY_MODEL_11efea66438349c4b24e039ee612f33e"
            ],
            "layout": "IPY_MODEL_44e2b6d5d0ab4230a893744fc3f023d3"
          }
        },
        "ed7fe476e11440db919848366cec674f": {
          "model_module": "@jupyter-widgets/controls",
          "model_name": "HTMLModel",
          "model_module_version": "1.5.0",
          "state": {
            "_dom_classes": [],
            "_model_module": "@jupyter-widgets/controls",
            "_model_module_version": "1.5.0",
            "_model_name": "HTMLModel",
            "_view_count": null,
            "_view_module": "@jupyter-widgets/controls",
            "_view_module_version": "1.5.0",
            "_view_name": "HTMLView",
            "description": "",
            "description_tooltip": null,
            "layout": "IPY_MODEL_0f6d9eb19ade4309b492d57f9caf9b63",
            "placeholder": "​",
            "style": "IPY_MODEL_503469eb2725429f89eead21bfa53da1",
            "value": "Generating extra examples...: 100%"
          }
        },
        "e7afe0500ce74bb1a571d462610d66a8": {
          "model_module": "@jupyter-widgets/controls",
          "model_name": "FloatProgressModel",
          "model_module_version": "1.5.0",
          "state": {
            "_dom_classes": [],
            "_model_module": "@jupyter-widgets/controls",
            "_model_module_version": "1.5.0",
            "_model_name": "FloatProgressModel",
            "_view_count": null,
            "_view_module": "@jupyter-widgets/controls",
            "_view_module_version": "1.5.0",
            "_view_name": "ProgressView",
            "bar_style": "",
            "description": "",
            "description_tooltip": null,
            "layout": "IPY_MODEL_56bc0315655044c0b0cb87f1e016b688",
            "max": 531131,
            "min": 0,
            "orientation": "horizontal",
            "style": "IPY_MODEL_dcc1f5bdf3714f0f9a8afefe17885d67",
            "value": 531131
          }
        },
        "11efea66438349c4b24e039ee612f33e": {
          "model_module": "@jupyter-widgets/controls",
          "model_name": "HTMLModel",
          "model_module_version": "1.5.0",
          "state": {
            "_dom_classes": [],
            "_model_module": "@jupyter-widgets/controls",
            "_model_module_version": "1.5.0",
            "_model_name": "HTMLModel",
            "_view_count": null,
            "_view_module": "@jupyter-widgets/controls",
            "_view_module_version": "1.5.0",
            "_view_name": "HTMLView",
            "description": "",
            "description_tooltip": null,
            "layout": "IPY_MODEL_9d0d475e55d3463cb182d2c987d3bddc",
            "placeholder": "​",
            "style": "IPY_MODEL_08ebf2e38a6e4fb281eaceb4d942aa4c",
            "value": " 530117/531131 [06:31&lt;00:00, 1520.55 examples/s]"
          }
        },
        "44e2b6d5d0ab4230a893744fc3f023d3": {
          "model_module": "@jupyter-widgets/base",
          "model_name": "LayoutModel",
          "model_module_version": "1.2.0",
          "state": {
            "_model_module": "@jupyter-widgets/base",
            "_model_module_version": "1.2.0",
            "_model_name": "LayoutModel",
            "_view_count": null,
            "_view_module": "@jupyter-widgets/base",
            "_view_module_version": "1.2.0",
            "_view_name": "LayoutView",
            "align_content": null,
            "align_items": null,
            "align_self": null,
            "border": null,
            "bottom": null,
            "display": null,
            "flex": null,
            "flex_flow": null,
            "grid_area": null,
            "grid_auto_columns": null,
            "grid_auto_flow": null,
            "grid_auto_rows": null,
            "grid_column": null,
            "grid_gap": null,
            "grid_row": null,
            "grid_template_areas": null,
            "grid_template_columns": null,
            "grid_template_rows": null,
            "height": null,
            "justify_content": null,
            "justify_items": null,
            "left": null,
            "margin": null,
            "max_height": null,
            "max_width": null,
            "min_height": null,
            "min_width": null,
            "object_fit": null,
            "object_position": null,
            "order": null,
            "overflow": null,
            "overflow_x": null,
            "overflow_y": null,
            "padding": null,
            "right": null,
            "top": null,
            "visibility": "hidden",
            "width": null
          }
        },
        "0f6d9eb19ade4309b492d57f9caf9b63": {
          "model_module": "@jupyter-widgets/base",
          "model_name": "LayoutModel",
          "model_module_version": "1.2.0",
          "state": {
            "_model_module": "@jupyter-widgets/base",
            "_model_module_version": "1.2.0",
            "_model_name": "LayoutModel",
            "_view_count": null,
            "_view_module": "@jupyter-widgets/base",
            "_view_module_version": "1.2.0",
            "_view_name": "LayoutView",
            "align_content": null,
            "align_items": null,
            "align_self": null,
            "border": null,
            "bottom": null,
            "display": null,
            "flex": null,
            "flex_flow": null,
            "grid_area": null,
            "grid_auto_columns": null,
            "grid_auto_flow": null,
            "grid_auto_rows": null,
            "grid_column": null,
            "grid_gap": null,
            "grid_row": null,
            "grid_template_areas": null,
            "grid_template_columns": null,
            "grid_template_rows": null,
            "height": null,
            "justify_content": null,
            "justify_items": null,
            "left": null,
            "margin": null,
            "max_height": null,
            "max_width": null,
            "min_height": null,
            "min_width": null,
            "object_fit": null,
            "object_position": null,
            "order": null,
            "overflow": null,
            "overflow_x": null,
            "overflow_y": null,
            "padding": null,
            "right": null,
            "top": null,
            "visibility": null,
            "width": null
          }
        },
        "503469eb2725429f89eead21bfa53da1": {
          "model_module": "@jupyter-widgets/controls",
          "model_name": "DescriptionStyleModel",
          "model_module_version": "1.5.0",
          "state": {
            "_model_module": "@jupyter-widgets/controls",
            "_model_module_version": "1.5.0",
            "_model_name": "DescriptionStyleModel",
            "_view_count": null,
            "_view_module": "@jupyter-widgets/base",
            "_view_module_version": "1.2.0",
            "_view_name": "StyleView",
            "description_width": ""
          }
        },
        "56bc0315655044c0b0cb87f1e016b688": {
          "model_module": "@jupyter-widgets/base",
          "model_name": "LayoutModel",
          "model_module_version": "1.2.0",
          "state": {
            "_model_module": "@jupyter-widgets/base",
            "_model_module_version": "1.2.0",
            "_model_name": "LayoutModel",
            "_view_count": null,
            "_view_module": "@jupyter-widgets/base",
            "_view_module_version": "1.2.0",
            "_view_name": "LayoutView",
            "align_content": null,
            "align_items": null,
            "align_self": null,
            "border": null,
            "bottom": null,
            "display": null,
            "flex": null,
            "flex_flow": null,
            "grid_area": null,
            "grid_auto_columns": null,
            "grid_auto_flow": null,
            "grid_auto_rows": null,
            "grid_column": null,
            "grid_gap": null,
            "grid_row": null,
            "grid_template_areas": null,
            "grid_template_columns": null,
            "grid_template_rows": null,
            "height": null,
            "justify_content": null,
            "justify_items": null,
            "left": null,
            "margin": null,
            "max_height": null,
            "max_width": null,
            "min_height": null,
            "min_width": null,
            "object_fit": null,
            "object_position": null,
            "order": null,
            "overflow": null,
            "overflow_x": null,
            "overflow_y": null,
            "padding": null,
            "right": null,
            "top": null,
            "visibility": null,
            "width": null
          }
        },
        "dcc1f5bdf3714f0f9a8afefe17885d67": {
          "model_module": "@jupyter-widgets/controls",
          "model_name": "ProgressStyleModel",
          "model_module_version": "1.5.0",
          "state": {
            "_model_module": "@jupyter-widgets/controls",
            "_model_module_version": "1.5.0",
            "_model_name": "ProgressStyleModel",
            "_view_count": null,
            "_view_module": "@jupyter-widgets/base",
            "_view_module_version": "1.2.0",
            "_view_name": "StyleView",
            "bar_color": null,
            "description_width": ""
          }
        },
        "9d0d475e55d3463cb182d2c987d3bddc": {
          "model_module": "@jupyter-widgets/base",
          "model_name": "LayoutModel",
          "model_module_version": "1.2.0",
          "state": {
            "_model_module": "@jupyter-widgets/base",
            "_model_module_version": "1.2.0",
            "_model_name": "LayoutModel",
            "_view_count": null,
            "_view_module": "@jupyter-widgets/base",
            "_view_module_version": "1.2.0",
            "_view_name": "LayoutView",
            "align_content": null,
            "align_items": null,
            "align_self": null,
            "border": null,
            "bottom": null,
            "display": null,
            "flex": null,
            "flex_flow": null,
            "grid_area": null,
            "grid_auto_columns": null,
            "grid_auto_flow": null,
            "grid_auto_rows": null,
            "grid_column": null,
            "grid_gap": null,
            "grid_row": null,
            "grid_template_areas": null,
            "grid_template_columns": null,
            "grid_template_rows": null,
            "height": null,
            "justify_content": null,
            "justify_items": null,
            "left": null,
            "margin": null,
            "max_height": null,
            "max_width": null,
            "min_height": null,
            "min_width": null,
            "object_fit": null,
            "object_position": null,
            "order": null,
            "overflow": null,
            "overflow_x": null,
            "overflow_y": null,
            "padding": null,
            "right": null,
            "top": null,
            "visibility": null,
            "width": null
          }
        },
        "08ebf2e38a6e4fb281eaceb4d942aa4c": {
          "model_module": "@jupyter-widgets/controls",
          "model_name": "DescriptionStyleModel",
          "model_module_version": "1.5.0",
          "state": {
            "_model_module": "@jupyter-widgets/controls",
            "_model_module_version": "1.5.0",
            "_model_name": "DescriptionStyleModel",
            "_view_count": null,
            "_view_module": "@jupyter-widgets/base",
            "_view_module_version": "1.2.0",
            "_view_name": "StyleView",
            "description_width": ""
          }
        },
        "ccf56a5e15d04d12976346b5946ad75d": {
          "model_module": "@jupyter-widgets/controls",
          "model_name": "HBoxModel",
          "model_module_version": "1.5.0",
          "state": {
            "_dom_classes": [],
            "_model_module": "@jupyter-widgets/controls",
            "_model_module_version": "1.5.0",
            "_model_name": "HBoxModel",
            "_view_count": null,
            "_view_module": "@jupyter-widgets/controls",
            "_view_module_version": "1.5.0",
            "_view_name": "HBoxView",
            "box_style": "",
            "children": [
              "IPY_MODEL_dce02e0c069f4110b7447c970d70d5ed",
              "IPY_MODEL_20523a3b8cd843b6b2acacf4892f716f",
              "IPY_MODEL_67a47644c95146499790834e3d4eb8d4"
            ],
            "layout": "IPY_MODEL_3df04b5447ee41daac5ff012e714a4c4"
          }
        },
        "dce02e0c069f4110b7447c970d70d5ed": {
          "model_module": "@jupyter-widgets/controls",
          "model_name": "HTMLModel",
          "model_module_version": "1.5.0",
          "state": {
            "_dom_classes": [],
            "_model_module": "@jupyter-widgets/controls",
            "_model_module_version": "1.5.0",
            "_model_name": "HTMLModel",
            "_view_count": null,
            "_view_module": "@jupyter-widgets/controls",
            "_view_module_version": "1.5.0",
            "_view_name": "HTMLView",
            "description": "",
            "description_tooltip": null,
            "layout": "IPY_MODEL_073311da2f9a415794fab1b0ecaea9cb",
            "placeholder": "​",
            "style": "IPY_MODEL_35518a34b30944ae848f69ad6d2bb1cf",
            "value": "Shuffling /root/tensorflow_datasets/svhn_cropped/3.0.0.incompleteJKI57Q/svhn_cropped-extra.tfrecord*...:  99%"
          }
        },
        "20523a3b8cd843b6b2acacf4892f716f": {
          "model_module": "@jupyter-widgets/controls",
          "model_name": "FloatProgressModel",
          "model_module_version": "1.5.0",
          "state": {
            "_dom_classes": [],
            "_model_module": "@jupyter-widgets/controls",
            "_model_module_version": "1.5.0",
            "_model_name": "FloatProgressModel",
            "_view_count": null,
            "_view_module": "@jupyter-widgets/controls",
            "_view_module_version": "1.5.0",
            "_view_name": "ProgressView",
            "bar_style": "",
            "description": "",
            "description_tooltip": null,
            "layout": "IPY_MODEL_750ab8d86cda4fd79e4773f096dd1779",
            "max": 531131,
            "min": 0,
            "orientation": "horizontal",
            "style": "IPY_MODEL_ca36ef609238436c921a3fb88ca88faa",
            "value": 531131
          }
        },
        "67a47644c95146499790834e3d4eb8d4": {
          "model_module": "@jupyter-widgets/controls",
          "model_name": "HTMLModel",
          "model_module_version": "1.5.0",
          "state": {
            "_dom_classes": [],
            "_model_module": "@jupyter-widgets/controls",
            "_model_module_version": "1.5.0",
            "_model_name": "HTMLModel",
            "_view_count": null,
            "_view_module": "@jupyter-widgets/controls",
            "_view_module_version": "1.5.0",
            "_view_name": "HTMLView",
            "description": "",
            "description_tooltip": null,
            "layout": "IPY_MODEL_6907dd264300482297ee5e047f9a5ed6",
            "placeholder": "​",
            "style": "IPY_MODEL_3270ca28854b4e52877ff257922d44b1",
            "value": " 523537/531131 [00:11&lt;00:00, 86931.26 examples/s]"
          }
        },
        "3df04b5447ee41daac5ff012e714a4c4": {
          "model_module": "@jupyter-widgets/base",
          "model_name": "LayoutModel",
          "model_module_version": "1.2.0",
          "state": {
            "_model_module": "@jupyter-widgets/base",
            "_model_module_version": "1.2.0",
            "_model_name": "LayoutModel",
            "_view_count": null,
            "_view_module": "@jupyter-widgets/base",
            "_view_module_version": "1.2.0",
            "_view_name": "LayoutView",
            "align_content": null,
            "align_items": null,
            "align_self": null,
            "border": null,
            "bottom": null,
            "display": null,
            "flex": null,
            "flex_flow": null,
            "grid_area": null,
            "grid_auto_columns": null,
            "grid_auto_flow": null,
            "grid_auto_rows": null,
            "grid_column": null,
            "grid_gap": null,
            "grid_row": null,
            "grid_template_areas": null,
            "grid_template_columns": null,
            "grid_template_rows": null,
            "height": null,
            "justify_content": null,
            "justify_items": null,
            "left": null,
            "margin": null,
            "max_height": null,
            "max_width": null,
            "min_height": null,
            "min_width": null,
            "object_fit": null,
            "object_position": null,
            "order": null,
            "overflow": null,
            "overflow_x": null,
            "overflow_y": null,
            "padding": null,
            "right": null,
            "top": null,
            "visibility": "hidden",
            "width": null
          }
        },
        "073311da2f9a415794fab1b0ecaea9cb": {
          "model_module": "@jupyter-widgets/base",
          "model_name": "LayoutModel",
          "model_module_version": "1.2.0",
          "state": {
            "_model_module": "@jupyter-widgets/base",
            "_model_module_version": "1.2.0",
            "_model_name": "LayoutModel",
            "_view_count": null,
            "_view_module": "@jupyter-widgets/base",
            "_view_module_version": "1.2.0",
            "_view_name": "LayoutView",
            "align_content": null,
            "align_items": null,
            "align_self": null,
            "border": null,
            "bottom": null,
            "display": null,
            "flex": null,
            "flex_flow": null,
            "grid_area": null,
            "grid_auto_columns": null,
            "grid_auto_flow": null,
            "grid_auto_rows": null,
            "grid_column": null,
            "grid_gap": null,
            "grid_row": null,
            "grid_template_areas": null,
            "grid_template_columns": null,
            "grid_template_rows": null,
            "height": null,
            "justify_content": null,
            "justify_items": null,
            "left": null,
            "margin": null,
            "max_height": null,
            "max_width": null,
            "min_height": null,
            "min_width": null,
            "object_fit": null,
            "object_position": null,
            "order": null,
            "overflow": null,
            "overflow_x": null,
            "overflow_y": null,
            "padding": null,
            "right": null,
            "top": null,
            "visibility": null,
            "width": null
          }
        },
        "35518a34b30944ae848f69ad6d2bb1cf": {
          "model_module": "@jupyter-widgets/controls",
          "model_name": "DescriptionStyleModel",
          "model_module_version": "1.5.0",
          "state": {
            "_model_module": "@jupyter-widgets/controls",
            "_model_module_version": "1.5.0",
            "_model_name": "DescriptionStyleModel",
            "_view_count": null,
            "_view_module": "@jupyter-widgets/base",
            "_view_module_version": "1.2.0",
            "_view_name": "StyleView",
            "description_width": ""
          }
        },
        "750ab8d86cda4fd79e4773f096dd1779": {
          "model_module": "@jupyter-widgets/base",
          "model_name": "LayoutModel",
          "model_module_version": "1.2.0",
          "state": {
            "_model_module": "@jupyter-widgets/base",
            "_model_module_version": "1.2.0",
            "_model_name": "LayoutModel",
            "_view_count": null,
            "_view_module": "@jupyter-widgets/base",
            "_view_module_version": "1.2.0",
            "_view_name": "LayoutView",
            "align_content": null,
            "align_items": null,
            "align_self": null,
            "border": null,
            "bottom": null,
            "display": null,
            "flex": null,
            "flex_flow": null,
            "grid_area": null,
            "grid_auto_columns": null,
            "grid_auto_flow": null,
            "grid_auto_rows": null,
            "grid_column": null,
            "grid_gap": null,
            "grid_row": null,
            "grid_template_areas": null,
            "grid_template_columns": null,
            "grid_template_rows": null,
            "height": null,
            "justify_content": null,
            "justify_items": null,
            "left": null,
            "margin": null,
            "max_height": null,
            "max_width": null,
            "min_height": null,
            "min_width": null,
            "object_fit": null,
            "object_position": null,
            "order": null,
            "overflow": null,
            "overflow_x": null,
            "overflow_y": null,
            "padding": null,
            "right": null,
            "top": null,
            "visibility": null,
            "width": null
          }
        },
        "ca36ef609238436c921a3fb88ca88faa": {
          "model_module": "@jupyter-widgets/controls",
          "model_name": "ProgressStyleModel",
          "model_module_version": "1.5.0",
          "state": {
            "_model_module": "@jupyter-widgets/controls",
            "_model_module_version": "1.5.0",
            "_model_name": "ProgressStyleModel",
            "_view_count": null,
            "_view_module": "@jupyter-widgets/base",
            "_view_module_version": "1.2.0",
            "_view_name": "StyleView",
            "bar_color": null,
            "description_width": ""
          }
        },
        "6907dd264300482297ee5e047f9a5ed6": {
          "model_module": "@jupyter-widgets/base",
          "model_name": "LayoutModel",
          "model_module_version": "1.2.0",
          "state": {
            "_model_module": "@jupyter-widgets/base",
            "_model_module_version": "1.2.0",
            "_model_name": "LayoutModel",
            "_view_count": null,
            "_view_module": "@jupyter-widgets/base",
            "_view_module_version": "1.2.0",
            "_view_name": "LayoutView",
            "align_content": null,
            "align_items": null,
            "align_self": null,
            "border": null,
            "bottom": null,
            "display": null,
            "flex": null,
            "flex_flow": null,
            "grid_area": null,
            "grid_auto_columns": null,
            "grid_auto_flow": null,
            "grid_auto_rows": null,
            "grid_column": null,
            "grid_gap": null,
            "grid_row": null,
            "grid_template_areas": null,
            "grid_template_columns": null,
            "grid_template_rows": null,
            "height": null,
            "justify_content": null,
            "justify_items": null,
            "left": null,
            "margin": null,
            "max_height": null,
            "max_width": null,
            "min_height": null,
            "min_width": null,
            "object_fit": null,
            "object_position": null,
            "order": null,
            "overflow": null,
            "overflow_x": null,
            "overflow_y": null,
            "padding": null,
            "right": null,
            "top": null,
            "visibility": null,
            "width": null
          }
        },
        "3270ca28854b4e52877ff257922d44b1": {
          "model_module": "@jupyter-widgets/controls",
          "model_name": "DescriptionStyleModel",
          "model_module_version": "1.5.0",
          "state": {
            "_model_module": "@jupyter-widgets/controls",
            "_model_module_version": "1.5.0",
            "_model_name": "DescriptionStyleModel",
            "_view_count": null,
            "_view_module": "@jupyter-widgets/base",
            "_view_module_version": "1.2.0",
            "_view_name": "StyleView",
            "description_width": ""
          }
        }
      }
    }
  },
  "cells": [
    {
      "cell_type": "markdown",
      "metadata": {
        "id": "bkvu6piHt3ra"
      },
      "source": [
        "### РОССИЙСКИЙ УНИВЕРСИТЕТ ДРУЖБЫ НАРОДОВ\n",
        "\n",
        "#### Факультет физико-математических и естественных наук  \n",
        "#### Кафедра математического моделирования и искусственного интелекта"
      ]
    },
    {
      "cell_type": "markdown",
      "metadata": {
        "id": "djXIWnpjt3rf"
      },
      "source": [
        "## ОТЧЕТ ПО КОНТРОЛЬНОЙ РАБОТЕ № 7\n",
        "\n",
        "\n",
        "### Дисциплина: Методы машинного обучения"
      ]
    },
    {
      "cell_type": "markdown",
      "metadata": {
        "id": "fo_ynhTst3rg"
      },
      "source": [
        "##### Студент:  Щербак Маргарита Романовна\n",
        "##### Группа:   НПИбд-02-21"
      ]
    },
    {
      "cell_type": "markdown",
      "source": [
        "### Вариант №24\n",
        "\n",
        "1. Набор данных: svhn_cropped\n",
        "\n",
        "2. Диапазон классов: 1, 3, 5, 7, 9\n",
        "\n",
        "3. Архитектура автокодировщика: MLP\n",
        "\n",
        "4. Показатель качества:   \n",
        "cреднее абсолютное отклонение (MAE) для ошибки реконструкции\n",
        "\n",
        "5. Показатель качества бинарной классификации:   \n",
        "индекс Фоулкса – Мэллоуса, равный корню квадратному из TP/(TP + TN) * TP/(TP + FP)"
      ],
      "metadata": {
        "id": "K64m19VwKRFB"
      }
    },
    {
      "cell_type": "markdown",
      "source": [
        "**Задание 1**   \n",
        "Загрузите заданный в индивидуальном задании набор данных с изображениями из Tensorflow Datasets с разбиением на обучающую и тестовую выборки. Оставьте в обучающей и тестовой выборках диапазон классов, указанных в индивидуальном задании. Если изображения цветные (с тремя каналами), то перекодируйте их в одноцветные (оттенки серого)."
      ],
      "metadata": {
        "id": "0NeIkCS0Mjss"
      }
    },
    {
      "cell_type": "markdown",
      "source": [
        "В моем датасете картинки цветные, поэтому перекодирую их в одноцветные."
      ],
      "metadata": {
        "id": "C6QsF7mRWvM4"
      }
    },
    {
      "cell_type": "code",
      "source": [
        "import tensorflow as tf\n",
        "import tensorflow_datasets as tfds\n",
        "import numpy as np\n",
        "from PIL import Image\n",
        "import matplotlib.pyplot as plt\n",
        "import tensorflow.keras as keras\n",
        "import pandas as pd\n",
        "from tensorflow.keras.layers import Input, Dense\n",
        "from tensorflow.keras.models import Model\n",
        "from tensorflow.keras.utils import to_categorical\n",
        "from tensorflow.keras import layers, models, optimizers, losses, metrics\n",
        "from PIL import Image, ImageOps\n",
        "\n",
        "\n",
        "ds = tfds.load(\"svhn_cropped\", split=['train', 'test'])\n",
        "df_train = tfds.as_dataframe(ds[0])\n",
        "df_test = tfds.as_dataframe(ds[1])\n",
        "\n",
        "df_train.shape, df_test.shape"
      ],
      "metadata": {
        "id": "qc27dc_HMlvl",
        "colab": {
          "base_uri": "https://localhost:8080/",
          "height": 133,
          "referenced_widgets": [
            "27a301528bc64d9d9dc1d03b1b938686",
            "c240f071c56a4483aa019d9a41ddfd73",
            "b84b517213fa4a338dd9d4db1ff04664",
            "b6c53d6e178146d59611c522b2727981",
            "86e4591b318d459cb902a6d3f8a6229c",
            "feb7e9c807b94ee1be94510a7595e7cc",
            "dd62286446cc48c694d809ff6c4f534b",
            "7e0ee707afe5496c909235420e1bb00d",
            "36661d3be6d34b6d986824790e85b978",
            "7ede26e03f6d449f8cd986d704874be5",
            "be48cb44fa66447684f2c89191d927f5",
            "35689ba6a030477aa589f345dead0382",
            "b10ffa87a7f94241b22ed58fb075d412",
            "b028fef182e94963bf962400ef64d02e",
            "b7aed84b3172431fa0280c680a9624c3",
            "10618ff8774b47a18d02de02f8aed09c",
            "262f742b90e840b291a623c29cec15b3",
            "115a64d5b516420ea539095e34a469b2",
            "e73bd48520ad447cbdc75e06b7b169b0",
            "2602439575c4495cae8d441ea17b50f6",
            "416876673eb44533b920812ed6a7a5d8",
            "f381007973e540e5b24dc251e674c651",
            "4efd3034c5224669ab68efaa5c550fb5",
            "abaae2fef91c4118b673cab52402912e",
            "e0d347168d484d2eb5d643c4785800ce",
            "2ca563b35a554dda91e55a3c015bb270",
            "26012cf0f07145879d0b55cd97bfee2a",
            "48443785e6db45fa9def16c7a1a3ce85",
            "3a13560207404f53b229fbd936bdf226",
            "b3f8395bfde045b4b6b34f6b028e3b72",
            "32d524f51b1c45c6ae00216fb23723d6",
            "81234658c79249c898e2e6f6c955f850",
            "5362796c123640d789eba407968f00c2",
            "c48435bfd6e64ca7aa97d47b99631302",
            "3afcbbe508014dea84bb6ae966a91139",
            "25737d5e15d54dd1a39993d63068a42e",
            "b069607f4a854bf08afd23833ae9fea0",
            "e1065e74fc5146c69759fe95e6b326ce",
            "0fbf4bf82db44ddb8699312d51343d92",
            "14d134ad87a247f89cb9c59983353e91",
            "eed010362ed842a38d47b4858013d25a",
            "b90fd641e67b4ea2b01a85f4fd50e258",
            "853c2234afd7477087a85d8d7b155361",
            "81fa565d62f242719f2664274003fb7a",
            "eb348b8b4c094a1eb37331bd25d09bf5",
            "c840036aade248e8be791f76a0e33bd0",
            "97f15c3e858a4fa5b54a92009a3515ad",
            "1c197a6049404073bd8257e6758d46bf",
            "55acc86f34634544992a3513934f342a",
            "cfbaaf4d4cb540dea8f7d0596358e509",
            "6013244b97b04d5e887e2fdb4fe36dca",
            "188b8f1cbbff4e1f819cf59d6ea407c1",
            "5c9e2d85376b451e9a1264ea97873d0a",
            "9cc9546a6cb443a1938a6cbbbd813973",
            "4f9a7287940346d29ba8e3f342a885ef",
            "7ee0ffd30b78417b950394d1faaea598",
            "4e49d53327e74cd4bb82163ead647518",
            "ddc5a4621f07492e9f908fe13aa96d44",
            "739db41bf16d4df0b46d3e504b7b4c76",
            "ef71566076b6415faf0d1552d6f65de6",
            "b26e84ffe1d24dfcae42c74a0449cab6",
            "29d867a0637646cd9b5d7580f60bd930",
            "e7d0560dc7f64b3bb9b7d8107a1a2473",
            "5b55d29dd5ed4993b8cc0fd13378d0eb",
            "854fd6b8982d4b86adae1e8afdf80619",
            "c1f17dddc5b54e058389e62306138753",
            "b1943075da144fe8943865c14b9c1d22",
            "26dc05e681e444ee80535d5563868fb1",
            "ca0705156a164bd592b9860f2b336427",
            "696d99bd563d41ddacd86f1722ee94c3",
            "23a0c28840004422be6dae9ac67a299d",
            "0b39e73613f44e4abc0eb44c05462f6f",
            "0959bae1af734fb49dc110c359a21016",
            "3415236fbb1c4c7cb18b738419a31a8d",
            "70fc13a065594f86bb3d9e595d1a424b",
            "3fa7cb79cf2c4d81803ce27a486b8356",
            "4a7183e24cb2456c85a7a8a3a215368c",
            "981038797b9e4c46b7c65617352330de",
            "ed7fe476e11440db919848366cec674f",
            "e7afe0500ce74bb1a571d462610d66a8",
            "11efea66438349c4b24e039ee612f33e",
            "44e2b6d5d0ab4230a893744fc3f023d3",
            "0f6d9eb19ade4309b492d57f9caf9b63",
            "503469eb2725429f89eead21bfa53da1",
            "56bc0315655044c0b0cb87f1e016b688",
            "dcc1f5bdf3714f0f9a8afefe17885d67",
            "9d0d475e55d3463cb182d2c987d3bddc",
            "08ebf2e38a6e4fb281eaceb4d942aa4c",
            "ccf56a5e15d04d12976346b5946ad75d",
            "dce02e0c069f4110b7447c970d70d5ed",
            "20523a3b8cd843b6b2acacf4892f716f",
            "67a47644c95146499790834e3d4eb8d4",
            "3df04b5447ee41daac5ff012e714a4c4",
            "073311da2f9a415794fab1b0ecaea9cb",
            "35518a34b30944ae848f69ad6d2bb1cf",
            "750ab8d86cda4fd79e4773f096dd1779",
            "ca36ef609238436c921a3fb88ca88faa",
            "6907dd264300482297ee5e047f9a5ed6",
            "3270ca28854b4e52877ff257922d44b1"
          ]
        },
        "outputId": "aa3fbbfb-2aef-4cc1-a805-58a0f05c5f8f"
      },
      "execution_count": null,
      "outputs": [
        {
          "output_type": "stream",
          "name": "stdout",
          "text": [
            "Downloading and preparing dataset 1.47 GiB (download: 1.47 GiB, generated: Unknown size, total: 1.47 GiB) to /root/tensorflow_datasets/svhn_cropped/3.0.0...\n"
          ]
        },
        {
          "output_type": "display_data",
          "data": {
            "text/plain": [
              "Dl Completed...: 0 url [00:00, ? url/s]"
            ],
            "application/vnd.jupyter.widget-view+json": {
              "version_major": 2,
              "version_minor": 0,
              "model_id": "27a301528bc64d9d9dc1d03b1b938686"
            }
          },
          "metadata": {}
        },
        {
          "output_type": "display_data",
          "data": {
            "text/plain": [
              "Dl Size...: 0 MiB [00:00, ? MiB/s]"
            ],
            "application/vnd.jupyter.widget-view+json": {
              "version_major": 2,
              "version_minor": 0,
              "model_id": "35689ba6a030477aa589f345dead0382"
            }
          },
          "metadata": {}
        },
        {
          "output_type": "display_data",
          "data": {
            "text/plain": [
              "Generating splits...:   0%|          | 0/3 [00:00<?, ? splits/s]"
            ],
            "application/vnd.jupyter.widget-view+json": {
              "version_major": 2,
              "version_minor": 0,
              "model_id": "4efd3034c5224669ab68efaa5c550fb5"
            }
          },
          "metadata": {}
        },
        {
          "output_type": "display_data",
          "data": {
            "text/plain": [
              "Generating train examples...:   0%|          | 0/73257 [00:00<?, ? examples/s]"
            ],
            "application/vnd.jupyter.widget-view+json": {
              "version_major": 2,
              "version_minor": 0,
              "model_id": "c48435bfd6e64ca7aa97d47b99631302"
            }
          },
          "metadata": {}
        },
        {
          "output_type": "display_data",
          "data": {
            "text/plain": [
              "Shuffling /root/tensorflow_datasets/svhn_cropped/3.0.0.incompleteJKI57Q/svhn_cropped-train.tfrecord*...:   0%|…"
            ],
            "application/vnd.jupyter.widget-view+json": {
              "version_major": 2,
              "version_minor": 0,
              "model_id": "eb348b8b4c094a1eb37331bd25d09bf5"
            }
          },
          "metadata": {}
        },
        {
          "output_type": "display_data",
          "data": {
            "text/plain": [
              "Generating test examples...:   0%|          | 0/26032 [00:00<?, ? examples/s]"
            ],
            "application/vnd.jupyter.widget-view+json": {
              "version_major": 2,
              "version_minor": 0,
              "model_id": "7ee0ffd30b78417b950394d1faaea598"
            }
          },
          "metadata": {}
        },
        {
          "output_type": "display_data",
          "data": {
            "text/plain": [
              "Shuffling /root/tensorflow_datasets/svhn_cropped/3.0.0.incompleteJKI57Q/svhn_cropped-test.tfrecord*...:   0%| …"
            ],
            "application/vnd.jupyter.widget-view+json": {
              "version_major": 2,
              "version_minor": 0,
              "model_id": "b1943075da144fe8943865c14b9c1d22"
            }
          },
          "metadata": {}
        },
        {
          "output_type": "display_data",
          "data": {
            "text/plain": [
              "Generating extra examples...:   0%|          | 0/531131 [00:00<?, ? examples/s]"
            ],
            "application/vnd.jupyter.widget-view+json": {
              "version_major": 2,
              "version_minor": 0,
              "model_id": "981038797b9e4c46b7c65617352330de"
            }
          },
          "metadata": {}
        },
        {
          "output_type": "display_data",
          "data": {
            "text/plain": [
              "Shuffling /root/tensorflow_datasets/svhn_cropped/3.0.0.incompleteJKI57Q/svhn_cropped-extra.tfrecord*...:   0%|…"
            ],
            "application/vnd.jupyter.widget-view+json": {
              "version_major": 2,
              "version_minor": 0,
              "model_id": "ccf56a5e15d04d12976346b5946ad75d"
            }
          },
          "metadata": {}
        },
        {
          "output_type": "stream",
          "name": "stdout",
          "text": [
            "Dataset svhn_cropped downloaded and prepared to /root/tensorflow_datasets/svhn_cropped/3.0.0. Subsequent calls will reuse this data.\n"
          ]
        },
        {
          "output_type": "execute_result",
          "data": {
            "text/plain": [
              "((73257, 2), (26032, 2))"
            ]
          },
          "metadata": {},
          "execution_count": 1
        }
      ]
    },
    {
      "cell_type": "code",
      "source": [
        "df_train = df_train.loc[df_train['label'].isin([1, 3, 5, 7, 9])]\n",
        "df_test = df_test.loc[df_test['label'].isin([1, 3, 5, 7, 9])]\n",
        "df_train['label'] = df_train['label'].map({1:0, 3:1, 5:2, 7:3, 9:4})\n",
        "df_test['label'] = df_test['label'].map({1:0, 3:1, 5:2, 7:3, 9:4})\n",
        "\n",
        "df_train.shape, df_test.shape"
      ],
      "metadata": {
        "colab": {
          "base_uri": "https://localhost:8080/"
        },
        "id": "IBR4pFd3W6ep",
        "outputId": "8d395932-21a0-4faa-bd22-5d390fe59c0e"
      },
      "execution_count": null,
      "outputs": [
        {
          "output_type": "execute_result",
          "data": {
            "text/plain": [
              "((39494, 2), (13979, 2))"
            ]
          },
          "metadata": {},
          "execution_count": 3
        }
      ]
    },
    {
      "cell_type": "code",
      "source": [
        "df_train['label'].unique(), df_test['label'].unique(), df_train.iloc[0]['image'].shape"
      ],
      "metadata": {
        "colab": {
          "base_uri": "https://localhost:8080/"
        },
        "id": "6-aE24NGW8K4",
        "outputId": "6ac8630c-609d-435d-e21e-4cba0afdf829"
      },
      "execution_count": null,
      "outputs": [
        {
          "output_type": "execute_result",
          "data": {
            "text/plain": [
              "(array([3, 1, 2, 0, 4]), array([3, 1, 0, 2, 4]), (32, 32, 3))"
            ]
          },
          "metadata": {},
          "execution_count": 4
        }
      ]
    },
    {
      "cell_type": "code",
      "source": [
        "def display_image(df_train):\n",
        "  img = Image.fromarray(df_train.iloc[7]['image'])\n",
        "  plt.imshow(img);\n",
        "\n",
        "display_image(df_train)"
      ],
      "metadata": {
        "colab": {
          "base_uri": "https://localhost:8080/",
          "height": 430
        },
        "id": "2aK5IYhaW9wC",
        "outputId": "08f696fc-53ac-412b-b266-fb24d02e0f62"
      },
      "execution_count": null,
      "outputs": [
        {
          "output_type": "display_data",
          "data": {
            "text/plain": [
              "<Figure size 640x480 with 1 Axes>"
            ],
            "image/png": "[encoded data removed]"
          },
          "metadata": {}
        }
      ]
    },
    {
      "cell_type": "code",
      "source": [
        "# Преобразование изображений в оттенки серого\n",
        "def convert_to_grayscale(image):\n",
        "    return tf.image.rgb_to_grayscale(image)\n",
        "\n",
        "def preprocess(df, num_samples=8):\n",
        "    images, labels = [], []\n",
        "    df_sample = df.sample(n=num_samples)\n",
        "    for _, row in df_sample.iterrows():\n",
        "        images.append(row['image'])\n",
        "        labels.append(row['label'])\n",
        "    return np.array(images), np.array(labels)\n",
        "\n",
        "train_images_color, train_labels_color = preprocess(df_train)\n",
        "\n",
        "# Преобразование изображений в оттенки серого\n",
        "train_images_gray = np.array([convert_to_grayscale(image).numpy() for image in train_images_color])\n",
        "\n",
        "def show_images(images1, images2, labels):\n",
        "    plt.figure(figsize=(14, 4))\n",
        "    for i in range(len(images1)):\n",
        "        plt.subplot(2, len(images1), i + 1)\n",
        "        plt.imshow(images1[i])\n",
        "        plt.title(f\"Label: {labels[i]}\")\n",
        "        plt.axis('off')\n",
        "\n",
        "        plt.subplot(2, len(images1), i + 1 + len(images1))\n",
        "        plt.imshow(images2[i].squeeze(), cmap='gray')\n",
        "        plt.title(f\"Label: {labels[i]}\")\n",
        "        plt.axis('off')\n",
        "    plt.show()\n",
        "\n",
        "show_images(train_images_color, train_images_gray, train_labels_color)"
      ],
      "metadata": {
        "colab": {
          "base_uri": "https://localhost:8080/",
          "height": 342
        },
        "id": "cRdEVoutW_hi",
        "outputId": "06aacc34-0274-4de4-b7db-b51c5bc932f1"
      },
      "execution_count": null,
      "outputs": [
        {
          "output_type": "display_data",
          "data": {
            "text/plain": [
              "<Figure size 1400x400 with 16 Axes>"
            ],
            "image/png": "[encoded data removed]"
          },
          "metadata": {}
        }
      ]
    },
    {
      "cell_type": "markdown",
      "source": [
        "**Задание 2**   \n",
        "Постройте для набора данных график логарифмического правдоподобия профиля в зависимости от числа главных компонент и определите размерность латентного пространства."
      ],
      "metadata": {
        "id": "pkrcXJ1BXHvU"
      }
    },
    {
      "cell_type": "code",
      "source": [
        "x_train = np.array([image.flatten() for image in df_train['image']])\n",
        "\n",
        "x_train.shape"
      ],
      "metadata": {
        "colab": {
          "base_uri": "https://localhost:8080/"
        },
        "id": "jCJdL6PMZPMQ",
        "outputId": "c76a134a-83c4-4a57-a803-c9afcd1decd4"
      },
      "execution_count": null,
      "outputs": [
        {
          "output_type": "execute_result",
          "data": {
            "text/plain": [
              "(39494, 3072)"
            ]
          },
          "metadata": {},
          "execution_count": 11
        }
      ]
    },
    {
      "cell_type": "code",
      "source": [
        "# Фильтрация данных для классов\n",
        "train_mask = df_train['label'].isin([1, 3, 5, 7, 9])\n",
        "test_mask = df_test['label'].isin([1, 3, 5, 7, 9])\n",
        "\n",
        "df_train_filtered = df_train.loc[train_mask].copy()\n",
        "df_test_filtered = df_test.loc[test_mask].copy()\n",
        "\n",
        "label_map = {1: 0, 3: 1, 5: 2, 7: 3, 9:4}\n",
        "df_train_filtered['label'] = df_train_filtered['label'].map(label_map)\n",
        "df_test_filtered['label'] = df_test_filtered['label'].map(label_map)\n",
        "\n",
        "train_labels = to_categorical(df_train_filtered['label'], num_classes=5)\n",
        "test_labels = to_categorical(df_test_filtered['label'], num_classes=5)\n",
        "\n",
        "train_images = np.zeros(shape=(df_train_filtered.shape[0], 32, 32, 1), dtype=np.float32)\n",
        "test_images = np.zeros(shape=(df_test_filtered.shape[0], 32, 32, 1), dtype=np.float32)\n",
        "\n",
        "train_images.shape, test_images.shape"
      ],
      "metadata": {
        "colab": {
          "base_uri": "https://localhost:8080/"
        },
        "id": "F4z-wysqZtMJ",
        "outputId": "ac983b04-9e45-4cc8-a73e-b68aae8cf1da"
      },
      "execution_count": null,
      "outputs": [
        {
          "output_type": "execute_result",
          "data": {
            "text/plain": [
              "((14092, 32, 32, 1), (4901, 32, 32, 1))"
            ]
          },
          "metadata": {},
          "execution_count": 13
        }
      ]
    },
    {
      "cell_type": "code",
      "source": [
        "# Обработка изображений\n",
        "for idx in range(train_labels.shape[0]):\n",
        "    image = Image.fromarray(df_train_filtered.iloc[idx]['image'])\n",
        "    gray_image = ImageOps.grayscale(image).resize((32, 32), Image.LANCZOS)\n",
        "    train_images[idx, :, :, 0] = np.array(gray_image)\n",
        "\n",
        "for idx in range(test_labels.shape[0]):\n",
        "    image = Image.fromarray(df_test_filtered.iloc[idx]['image'])\n",
        "    gray_image = ImageOps.grayscale(image).resize((32, 32), Image.LANCZOS)\n",
        "    test_images[idx, :, :, 0] = np.array(gray_image)\n",
        "\n",
        "print(train_images.shape, test_images.shape)\n",
        "\n",
        "# Нормализация изображений\n",
        "train_images /= 255\n",
        "test_images /= 255"
      ],
      "metadata": {
        "colab": {
          "base_uri": "https://localhost:8080/"
        },
        "id": "pjRhlkzLZXqv",
        "outputId": "7e172711-599a-4417-b56b-b7162883ed1a"
      },
      "execution_count": null,
      "outputs": [
        {
          "output_type": "stream",
          "name": "stdout",
          "text": [
            "(14092, 32, 32, 1) (4901, 32, 32, 1)\n"
          ]
        }
      ]
    },
    {
      "cell_type": "code",
      "source": [
        "from sklearn.decomposition import PCA\n",
        "from scipy.stats import multivariate_normal\n",
        "import warnings\n",
        "warnings.simplefilter(\"ignore\", RuntimeWarning)\n",
        "\n",
        "def log_likelihood(evals):\n",
        "    Lmax = len(evals)\n",
        "    ll = np.arange(0.0, Lmax)\n",
        "    for L in range(Lmax):\n",
        "        group1 = evals[0 : L + 1]\n",
        "        group2 = evals[L + 1 : Lmax]\n",
        "\n",
        "        mu1 = np.mean(group1)\n",
        "        mu2 = np.mean(group2)\n",
        "\n",
        "        sigma = (np.sum((group1 - mu1) ** 2) + np.sum((group2 - mu2) ** 2)) / Lmax\n",
        "\n",
        "        ll_group1 = np.sum(multivariate_normal.logpdf(group1, mu1, sigma))\n",
        "        ll_group2 = np.sum(multivariate_normal.logpdf(group2, mu2, sigma))\n",
        "\n",
        "        ll[L] = ll_group1 + ll_group2\n",
        "\n",
        "    return ll\n",
        "\n",
        "n_samples = train_images.shape[0]\n",
        "X = train_images.reshape(n_samples, -1)\n",
        "\n",
        "n_images = X.shape[0]\n",
        "X_train = X[:int(n_images / 2), :]\n",
        "X_test = X[int(n_images / 2):, :]\n",
        "\n",
        "X_rank = np.linalg.matrix_rank(X_train)\n",
        "K_linspace = np.linspace(1, 0.75 * X_rank, 10, dtype=int)\n",
        "Ks = np.unique(np.append([1, 5, 10, 20], K_linspace))\n",
        "\n",
        "RMSE_train = np.zeros(len(Ks))\n",
        "RMSE_test = np.zeros(len(Ks))\n",
        "\n",
        "for index, K in enumerate(Ks):\n",
        "    pca = PCA(n_components=K)\n",
        "    Xtrain_transformed = pca.fit_transform(X_train)\n",
        "    Xtrain_proj = pca.inverse_transform(Xtrain_transformed)\n",
        "    RMSE_train[index] = mean_squared_error(X_train, Xtrain_proj, squared=False)\n",
        "    Xtest_transformed = pca.transform(X_test)\n",
        "    Xtest_proj = pca.inverse_transform(Xtest_transformed)\n",
        "    RMSE_test[index] = mean_squared_error(X_test, Xtest_proj, squared=False)\n",
        "\n",
        "n_samples, n_features = X_train.shape\n",
        "Kmax = min(n_samples, n_features)\n",
        "\n",
        "pca = PCA(n_components=Kmax)\n",
        "X_transformed = pca.fit_transform(X_train)\n",
        "evals = pca.explained_variance_\n",
        "ll = log_likelihood(evals)\n",
        "\n",
        "fraction_var = np.cumsum(evals[0:50] / np.sum(evals))"
      ],
      "metadata": {
        "id": "k0aWwsHfZhGY"
      },
      "execution_count": null,
      "outputs": []
    },
    {
      "cell_type": "code",
      "source": [
        "fig, ax = plt.subplots()\n",
        "xs = np.arange(1, 51)\n",
        "ys = ll[0:50]\n",
        "plt.title(\"График логарифмического правдоподобия профиля в зависимости от числа главных компонент\")\n",
        "plt.xlabel(\"Число главных компонент\")\n",
        "plt.ylabel(\"Логарифмическое правдоподобие профиля\")\n",
        "ax.plot(xs, ys, marker=\"o\")\n",
        "plt.show()"
      ],
      "metadata": {
        "colab": {
          "base_uri": "https://localhost:8080/",
          "height": 472
        },
        "id": "KuV5bd45Z20Q",
        "outputId": "6f9eeca1-e579-4822-eeea-1ca2a1024b07"
      },
      "execution_count": null,
      "outputs": [
        {
          "output_type": "display_data",
          "data": {
            "text/plain": [
              "<Figure size 640x480 with 1 Axes>"
            ],
            "image/png": "[encoded data removed]"
          },
          "metadata": {}
        }
      ]
    },
    {
      "cell_type": "code",
      "source": [
        "# Определение размерности латентного пространства\n",
        "latent_dim = np.argmax(ll) + 1\n",
        "print(f\"Размерность латентного пространства: {latent_dim}\")"
      ],
      "metadata": {
        "colab": {
          "base_uri": "https://localhost:8080/"
        },
        "id": "F-mOAYelZ46x",
        "outputId": "6bf23aa3-942a-43ed-d89a-21ab1fdfd0ad"
      },
      "execution_count": null,
      "outputs": [
        {
          "output_type": "stream",
          "name": "stdout",
          "text": [
            "Размерность латентного пространства: 1\n"
          ]
        }
      ]
    },
    {
      "cell_type": "markdown",
      "source": [
        "**Задание 3**   \n",
        "Создайте и обучите на обучающей выборке автокодировщик архитектуры, указанной в индивидуальном задании, с размерностью скрытого представления, равной размерности латентного пространства, определенной в п.2. Подберите такие параметры, как функции активации, оптимизатор, начальная скорость обучения, размер мини-пакета и др. самостоятельно, обеспечивая обучение нейронных сетей. Визуализируйте несколько исходных и восстановленных автокодировщиком изображений.  "
      ],
      "metadata": {
        "id": "oW3h59F1W4_1"
      }
    },
    {
      "cell_type": "markdown",
      "source": [
        "Архитектура автокодировщика: MLP"
      ],
      "metadata": {
        "id": "dSRrzU5ffEQ5"
      }
    },
    {
      "cell_type": "markdown",
      "source": [
        "latent_dim указала другое значение для обучения модели."
      ],
      "metadata": {
        "id": "bd5-YKHWgnZP"
      }
    },
    {
      "cell_type": "code",
      "source": [
        "latent_dim = 64\n",
        "callback = tf.keras.callbacks.EarlyStopping(monitor='val_loss', patience=3, restore_best_weights=True)\n",
        "input_img = tf.keras.layers.Input(shape=(32 * 32,))\n",
        "\n",
        "# Encoder\n",
        "encoded = tf.keras.layers.Dense(512, activation='relu')(input_img)\n",
        "encoded = tf.keras.layers.Dense(256, activation='relu')(encoded)\n",
        "encoded = tf.keras.layers.Dense(128, activation='relu')(encoded)\n",
        "encoded = tf.keras.layers.Dense(latent_dim, activation='relu')(encoded)\n",
        "\n",
        "# Decoder\n",
        "decoded = tf.keras.layers.Dense(128, activation='relu')(encoded)\n",
        "decoded = tf.keras.layers.Dense(256, activation='relu')(decoded)\n",
        "decoded = tf.keras.layers.Dense(512, activation='relu')(decoded)\n",
        "decoded = tf.keras.layers.Dense(32 * 32, activation='sigmoid')(decoded)\n",
        "\n",
        "autoencoder = tf.keras.models.Model(input_img, decoded)\n",
        "autoencoder.compile(optimizer='adam', loss='binary_crossentropy', metrics=[custom_accuracy])\n",
        "\n",
        "history = autoencoder.fit(train_images, train_images,\n",
        "                          epochs=50,\n",
        "                          batch_size=128,\n",
        "                          validation_data=(test_images, test_images),\n",
        "                          callbacks=[callback])\n"
      ],
      "metadata": {
        "colab": {
          "base_uri": "https://localhost:8080/"
        },
        "id": "FqcuBsHCLZUD",
        "outputId": "765520e3-256c-4613-fa7f-f4bfdb1e98d2"
      },
      "execution_count": null,
      "outputs": [
        {
          "output_type": "stream",
          "name": "stdout",
          "text": [
            "Epoch 1/50\n",
            "111/111 [==============================] - 8s 51ms/step - loss: 0.6592 - custom_accuracy: 0.4969 - val_loss: 0.6130 - val_custom_accuracy: 0.6383\n",
            "Epoch 2/50\n",
            "111/111 [==============================] - 6s 58ms/step - loss: 0.6300 - custom_accuracy: 0.6886 - val_loss: 0.6052 - val_custom_accuracy: 0.7077\n",
            "Epoch 3/50\n",
            "111/111 [==============================] - 5s 45ms/step - loss: 0.6257 - custom_accuracy: 0.7374 - val_loss: 0.6031 - val_custom_accuracy: 0.7375\n",
            "Epoch 4/50\n",
            "111/111 [==============================] - 7s 62ms/step - loss: 0.6249 - custom_accuracy: 0.7466 - val_loss: 0.6031 - val_custom_accuracy: 0.7374\n",
            "Epoch 5/50\n",
            "111/111 [==============================] - 5s 45ms/step - loss: 0.6249 - custom_accuracy: 0.7466 - val_loss: 0.6034 - val_custom_accuracy: 0.7323\n",
            "Epoch 6/50\n",
            "111/111 [==============================] - 7s 63ms/step - loss: 0.6236 - custom_accuracy: 0.7605 - val_loss: 0.6015 - val_custom_accuracy: 0.7552\n",
            "Epoch 7/50\n",
            "111/111 [==============================] - 5s 48ms/step - loss: 0.6228 - custom_accuracy: 0.7698 - val_loss: 0.6004 - val_custom_accuracy: 0.7569\n",
            "Epoch 8/50\n",
            "111/111 [==============================] - 8s 70ms/step - loss: 0.6213 - custom_accuracy: 0.7865 - val_loss: 0.5985 - val_custom_accuracy: 0.7768\n",
            "Epoch 9/50\n",
            "111/111 [==============================] - 10s 91ms/step - loss: 0.6203 - custom_accuracy: 0.7974 - val_loss: 0.5969 - val_custom_accuracy: 0.7977\n",
            "Epoch 10/50\n",
            "111/111 [==============================] - 10s 94ms/step - loss: 0.6200 - custom_accuracy: 0.8012 - val_loss: 0.5970 - val_custom_accuracy: 0.7948\n",
            "Epoch 11/50\n",
            "111/111 [==============================] - 8s 70ms/step - loss: 0.6188 - custom_accuracy: 0.8155 - val_loss: 0.5959 - val_custom_accuracy: 0.8094\n",
            "Epoch 12/50\n",
            "111/111 [==============================] - 7s 60ms/step - loss: 0.6181 - custom_accuracy: 0.8233 - val_loss: 0.5989 - val_custom_accuracy: 0.7787\n",
            "Epoch 13/50\n",
            "111/111 [==============================] - 7s 66ms/step - loss: 0.6182 - custom_accuracy: 0.8223 - val_loss: 0.5956 - val_custom_accuracy: 0.8093\n",
            "Epoch 14/50\n",
            "111/111 [==============================] - 10s 88ms/step - loss: 0.6177 - custom_accuracy: 0.8282 - val_loss: 0.5964 - val_custom_accuracy: 0.8075\n",
            "Epoch 15/50\n",
            "111/111 [==============================] - 9s 80ms/step - loss: 0.6172 - custom_accuracy: 0.8333 - val_loss: 0.5934 - val_custom_accuracy: 0.8344\n",
            "Epoch 16/50\n",
            "111/111 [==============================] - 9s 83ms/step - loss: 0.6164 - custom_accuracy: 0.8442 - val_loss: 0.5933 - val_custom_accuracy: 0.8375\n",
            "Epoch 17/50\n",
            "111/111 [==============================] - 9s 85ms/step - loss: 0.6162 - custom_accuracy: 0.8457 - val_loss: 0.5925 - val_custom_accuracy: 0.8449\n",
            "Epoch 18/50\n",
            "111/111 [==============================] - 8s 74ms/step - loss: 0.6160 - custom_accuracy: 0.8484 - val_loss: 0.5923 - val_custom_accuracy: 0.8469\n",
            "Epoch 19/50\n",
            "111/111 [==============================] - 7s 63ms/step - loss: 0.6161 - custom_accuracy: 0.8474 - val_loss: 0.5918 - val_custom_accuracy: 0.8511\n",
            "Epoch 20/50\n",
            "111/111 [==============================] - 8s 70ms/step - loss: 0.6153 - custom_accuracy: 0.8582 - val_loss: 0.5959 - val_custom_accuracy: 0.8122\n",
            "Epoch 21/50\n",
            "111/111 [==============================] - 9s 77ms/step - loss: 0.6152 - custom_accuracy: 0.8583 - val_loss: 0.5932 - val_custom_accuracy: 0.8420\n",
            "Epoch 22/50\n",
            "111/111 [==============================] - 5s 44ms/step - loss: 0.6149 - custom_accuracy: 0.8618 - val_loss: 0.5916 - val_custom_accuracy: 0.8557\n",
            "Epoch 23/50\n",
            "111/111 [==============================] - 8s 70ms/step - loss: 0.6148 - custom_accuracy: 0.8636 - val_loss: 0.5909 - val_custom_accuracy: 0.8618\n",
            "Epoch 24/50\n",
            "111/111 [==============================] - 5s 43ms/step - loss: 0.6145 - custom_accuracy: 0.8664 - val_loss: 0.5917 - val_custom_accuracy: 0.8528\n",
            "Epoch 25/50\n",
            "111/111 [==============================] - 8s 72ms/step - loss: 0.6145 - custom_accuracy: 0.8662 - val_loss: 0.5903 - val_custom_accuracy: 0.8681\n",
            "Epoch 26/50\n",
            "111/111 [==============================] - 11s 100ms/step - loss: 0.6141 - custom_accuracy: 0.8710 - val_loss: 0.5913 - val_custom_accuracy: 0.8561\n",
            "Epoch 27/50\n",
            "111/111 [==============================] - 9s 84ms/step - loss: 0.6142 - custom_accuracy: 0.8705 - val_loss: 0.5902 - val_custom_accuracy: 0.8694\n",
            "Epoch 28/50\n",
            "111/111 [==============================] - 9s 80ms/step - loss: 0.6142 - custom_accuracy: 0.8698 - val_loss: 0.5910 - val_custom_accuracy: 0.8619\n",
            "Epoch 29/50\n",
            "111/111 [==============================] - 8s 70ms/step - loss: 0.6140 - custom_accuracy: 0.8727 - val_loss: 0.5908 - val_custom_accuracy: 0.8611\n",
            "Epoch 30/50\n",
            "111/111 [==============================] - 5s 46ms/step - loss: 0.6139 - custom_accuracy: 0.8742 - val_loss: 0.5903 - val_custom_accuracy: 0.8675\n"
          ]
        }
      ]
    },
    {
      "cell_type": "markdown",
      "source": [
        "Визуализировала несколько исходных и восстановленных автокодировщиком изображений."
      ],
      "metadata": {
        "id": "VCSeWT-Rg19V"
      }
    },
    {
      "cell_type": "code",
      "source": [
        "test_images_flat = test_images.reshape(test_images.shape[0], 32 * 32)\n",
        "decoded_imgs = autoencoder.predict(test_images_flat)\n",
        "\n",
        "n = 10\n",
        "plt.figure(figsize=(20, 4))\n",
        "for i in range(n):\n",
        "    ax = plt.subplot(2, n, i + 1)\n",
        "    plt.imshow(test_images[i].reshape(32, 32), cmap='gray')\n",
        "    plt.title(\"Original\")\n",
        "    plt.axis('off')\n",
        "    ax = plt.subplot(2, n, i + 1 + n)\n",
        "    plt.imshow(decoded_imgs[i].reshape(32, 32), cmap='gray')\n",
        "    plt.title(\"Reconstructed\")\n",
        "    plt.axis('off')\n",
        "plt.show()"
      ],
      "metadata": {
        "colab": {
          "base_uri": "https://localhost:8080/",
          "height": 326
        },
        "id": "hh5Y6VdBbSyg",
        "outputId": "29957387-20fc-4af9-fd61-1d14157e9806"
      },
      "execution_count": null,
      "outputs": [
        {
          "output_type": "stream",
          "name": "stdout",
          "text": [
            "154/154 [==============================] - 2s 11ms/step\n"
          ]
        },
        {
          "output_type": "display_data",
          "data": {
            "text/plain": [
              "<Figure size 2000x400 with 20 Axes>"
            ],
            "image/png": "[encoded data removed]"
          },
          "metadata": {}
        }
      ]
    },
    {
      "cell_type": "markdown",
      "source": [
        "**Задание 4**   \n",
        "Оцените качество модели автокодировщика на тестовой выборке по показателю, указанному в индивидуальном задании."
      ],
      "metadata": {
        "id": "hCLQFQBYoybZ"
      }
    },
    {
      "cell_type": "code",
      "source": [
        "from sklearn.metrics import mean_absolute_error\n",
        "\n",
        "# Вычисление среднего абсолютного отклонения (MAE)\n",
        "mae = mean_absolute_error(test_images.flatten(), decoded_imgs.flatten())\n",
        "\n",
        "print(f'MAE: {mae}')"
      ],
      "metadata": {
        "colab": {
          "base_uri": "https://localhost:8080/"
        },
        "id": "RGyUwLm7n2QS",
        "outputId": "eb68f564-0fa6-460a-aaf5-d034252f70ec"
      },
      "execution_count": null,
      "outputs": [
        {
          "output_type": "stream",
          "name": "stdout",
          "text": [
            "MAE: 0.04989193379878998\n"
          ]
        }
      ]
    },
    {
      "cell_type": "markdown",
      "source": [
        "Разница в среднем значений пикселей на изображениях."
      ],
      "metadata": {
        "id": "MoUhIFudhEQ8"
      }
    },
    {
      "cell_type": "markdown",
      "source": [
        "**Задание 5**  \n",
        "Оставьте в наборах изображения первых двух классов диапазона, указанного в индивидуальном задании первыми. Визуализируйте набор данных на плоскости, соответствующей двум первым латентным признакам, отображая точки различных классов разными цветами. Подпишите оси и рисунок, создайте легенду для классов набора данных."
      ],
      "metadata": {
        "id": "8hEMLL5gqjwb"
      }
    },
    {
      "cell_type": "code",
      "source": [
        "# Фильтрация данных\n",
        "train_mask = df_train['label'].isin([1, 3])\n",
        "test_mask = df_test['label'].isin([1, 3])\n",
        "\n",
        "df_train_filtered = df_train.loc[train_mask]\n",
        "df_test_filtered = df_test.loc[test_mask]\n",
        "\n",
        "label_map = {1: 0, 3: 1}\n",
        "df_train_filtered.loc[:, 'label'] = df_train_filtered['label'].map(label_map)\n",
        "df_test_filtered.loc[:, 'label'] = df_test_filtered['label'].map(label_map)\n",
        "train_labels13 = to_categorical(df_train_filtered['label'], num_classes=2)\n",
        "test_labels13 = to_categorical(df_test_filtered['label'], num_classes=2)\n",
        "\n",
        "# Конвертация изображений и меток в numpy массивы\n",
        "train_images13 = np.zeros(shape=(df_train_filtered.shape[0], 32, 32, 1), dtype=np.float32)\n",
        "test_images13 = np.zeros(shape=(df_test_filtered.shape[0], 32, 32, 1), dtype=np.float32)\n",
        "\n",
        "# Изменение размера изображений, преобразование в черно-белые и сохранение в массивы\n",
        "for idx in range(train_labels13.shape[0]):\n",
        "    image = Image.fromarray(df_train_filtered.iloc[idx]['image'].astype(np.uint8))\n",
        "    resized_image = image.resize((32, 32))\n",
        "    gray_image = ImageOps.grayscale(resized_image)\n",
        "    train_images13[idx, :, :, 0] = np.array(gray_image)\n",
        "\n",
        "for idx in range(test_labels13.shape[0]):\n",
        "    image = Image.fromarray(df_test_filtered.iloc[idx]['image'].astype(np.uint8))\n",
        "    resized_image = image.resize((32, 32))\n",
        "    gray_image = ImageOps.grayscale(resized_image)\n",
        "    test_images13[idx, :, :, 0] = np.array(gray_image)\n",
        "\n",
        "train_images13 /= 255.0\n",
        "test_images13 /= 255.0\n",
        "\n",
        "# Получение латентного представления данных\n",
        "encoded_train_images = encoder.predict(train_images13)\n",
        "\n",
        "# Визуализация данных на плоскости\n",
        "plt.figure(figsize=(8, 6))\n",
        "colors = ['red', 'blue']\n",
        "for label in np.unique(latent_labels_original):\n",
        "    indices = np.where(latent_labels_original == label)\n",
        "    plt.scatter(latent_2d[indices, 0], latent_2d[indices, 1], label=f'Class {label}', alpha=0.6, c=colors[label//2])\n",
        "\n",
        "plt.title(\"Latent Space Representation of Classes 0 and 2\")\n",
        "plt.xlabel(\"Latent Feature 1\")\n",
        "plt.ylabel(\"Latent Feature 2\")\n",
        "plt.legend()\n",
        "plt.show()"
      ],
      "metadata": {
        "colab": {
          "base_uri": "https://localhost:8080/",
          "height": 564
        },
        "id": "BQ3G-CoMOzk-",
        "outputId": "8a5131e4-9918-455e-8259-0a644f0d7834"
      },
      "execution_count": null,
      "outputs": [
        {
          "output_type": "display_data",
          "data": {
            "text/plain": [
              "<Figure size 1000x600 with 1 Axes>"
            ],
            "image/png": "[encoded data removed]"
          },
          "metadata": {}
        }
      ]
    },
    {
      "cell_type": "markdown",
      "source": [
        "**Задание 6**  \n",
        "Выполните бинарную классификацию изображений по латентным (скрытым) признакам и всем признакам при помощи классификатора метода ближайших соседей (kNN). Оцените бинарный классификатор, указанный в индивидуальном задании, для двух построенных классификаторов."
      ],
      "metadata": {
        "id": "S-roB-cPPBht"
      }
    },
    {
      "cell_type": "markdown",
      "source": [
        "формула индекса Фоулкса-Мэлоуса  \n",
        "$$\\sqrt{\\frac{TP}{TP + TN} \\times \\frac{TP}{TP + FP}}$$\n"
      ],
      "metadata": {
        "id": "-aUz6G4VkPfl"
      }
    },
    {
      "cell_type": "code",
      "source": [
        "def fowlkes_mallows_index(y_true, y_pred):\n",
        "    TP = np.sum((y_true == 1) & (y_pred == 1))\n",
        "    TN = np.sum((y_true == 0) & (y_pred == 0))\n",
        "    FP = np.sum((y_true == 0) & (y_pred == 1))\n",
        "    return np.sqrt(TP / (TP + TN) * TP / (TP + FP))\n",
        "\n",
        "decoded_imgs_train = autoencoder.predict(train_images)\n",
        "preds_train = (decoded_imgs_train > 0.5).astype('int').argmax(axis=1)\n",
        "true_labels_train = train_labels.argmax(axis=1)\n",
        "\n",
        "# Вычисление индекса Фоулкса-Мэллоуса\n",
        "fmi_train = fowlkes_mallows_index(true_labels_train, preds_train)\n",
        "\n",
        "print(\"Fowlkes-Mallows Index using training data:\", fmi_train)"
      ],
      "metadata": {
        "colab": {
          "base_uri": "https://localhost:8080/"
        },
        "id": "MENxaoZ_ievB",
        "outputId": "3827012c-9b19-4446-873b-290979293f39"
      },
      "execution_count": null,
      "outputs": [
        {
          "output_type": "stream",
          "name": "stdout",
          "text": [
            "441/441 [==============================] - 5s 12ms/step\n",
            "Fowlkes-Mallows Index using training data: 0.08155305982399932\n"
          ]
        }
      ]
    },
    {
      "cell_type": "markdown",
      "source": [
        "Значение хоть и невысокое, указывает на то, что модель способна делать какие-то правильные предсказания, но, разумеется, есть место для улучшения."
      ],
      "metadata": {
        "id": "AGyh9E_QkrKs"
      }
    },
    {
      "cell_type": "markdown",
      "source": [
        "**Задание 7**  \n",
        "Визуализируйте ROC-кривые для построенных классификаторов на одном рисунке (с легендой) (Указание: используйте метод predict_proba() класса KNeighborsClassifier)."
      ],
      "metadata": {
        "id": "hFg4pqqUiVgw"
      }
    },
    {
      "cell_type": "code",
      "source": [
        "from sklearn.metrics import roc_curve, auc\n",
        "\n",
        "y_latent_pred_prob = knn_latent.predict_proba(X_latent_test)[:, 1]\n",
        "y_all_pred_prob = knn_all.predict_proba(X_test_flatten)[:, 1]\n",
        "# Вычисление ROC-кривых и площадей под ними\n",
        "fpr_latent, tpr_latent, _ = roc_curve(y_latent_test, y_latent_pred_prob)\n",
        "roc_auc_latent = auc(fpr_latent, tpr_latent)\n",
        "fpr_all, tpr_all, _ = roc_curve(y_test_flatten, y_all_pred_prob)\n",
        "roc_auc_all = auc(fpr_all, tpr_all)\n",
        "plt.figure(figsize=(8, 6))\n",
        "plt.plot(fpr_latent, tpr_latent, color='blue', lw=2, label=f'ROC curve (Latent), AUC = {roc_auc_latent:.2f}')\n",
        "plt.plot(fpr_all_features, tpr_all_features, color='red', lw=2, label=f'ROC curve (All Features), AUC = {roc_auc_all_features:.2f}')\n",
        "plt.plot([0, 1], [0, 1], color='black', lw=1, linestyle='--')\n",
        "plt.xlim([0.0, 1.0])\n",
        "plt.ylim([0.0, 1.05])\n",
        "plt.xlabel('False Positive Rate')\n",
        "plt.ylabel('True Positive Rate')\n",
        "plt.title('ROC Curves for Binary Classifiers')\n",
        "plt.legend(loc=\"lower right\")\n",
        "plt.grid(True)\n",
        "plt.show()"
      ],
      "metadata": {
        "colab": {
          "base_uri": "https://localhost:8080/",
          "height": 564
        },
        "id": "xA6sIMJ2jFLR",
        "outputId": "4ef31096-70ff-4ebd-d53d-2998466a579d"
      },
      "execution_count": null,
      "outputs": [
        {
          "output_type": "display_data",
          "data": {
            "text/plain": [
              "<Figure size 800x600 with 1 Axes>"
            ],
            "image/png": "[encoded data removed]"
          },
          "metadata": {}
        }
      ]
    },
    {
      "cell_type": "markdown",
      "source": [
        "**Задание 8**   \n",
        "Визуализируйте границы принятия решений классификатора kNN для латентных признаков на плоскости, соответствующей двум первым латентным признакам (для прочих латентных признаков задайте средние/медианные значения).  "
      ],
      "metadata": {
        "id": "AcOSogxQjJ6b"
      }
    },
    {
      "cell_type": "code",
      "source": [
        "def plot(classifier, X, y):\n",
        "    pca = PCA(n_components=2)\n",
        "    X_pca = pca.fit_transform(X.reshape(X.shape[0], -1))\n",
        "    x_min, x_max = X_pca[:, 0].min() - 1, X_pca[:, 0].max() + 1\n",
        "    y_min, y_max = X_pca[:, 1].min() - 1, X_pca[:, 1].max() + 1\n",
        "    xx, yy = np.meshgrid(np.linspace(x_min, x_max, 100),\n",
        "                         np.linspace(y_min, y_max, 100))\n",
        "    Z = classifier.predict(pca.inverse_transform(np.c_[xx.ravel(), yy.ravel()]))\n",
        "    Z = Z.reshape(xx.shape)\n",
        "    plt.contourf(xx, yy, Z, alpha=0.4)\n",
        "    plt.scatter(X_pca[:, 0], X_pca[:, 1], c=y, s=20, edgecolor='k')\n",
        "    plt.title('Decision Boundary for kNN Classifier')\n",
        "    plt.xlabel('Latent Feature 1')\n",
        "    plt.ylabel('Latent Feature 2')\n",
        "    plt.show()"
      ],
      "metadata": {
        "id": "8ur4oeVtlg1m"
      },
      "execution_count": null,
      "outputs": []
    },
    {
      "cell_type": "code",
      "source": [
        "plot(knn_latent, train_latent_filtered, train_labels_filtered.argmax(axis=1))"
      ],
      "metadata": {
        "colab": {
          "base_uri": "https://localhost:8080/",
          "height": 472
        },
        "id": "DW0B9rc7mSWQ",
        "outputId": "53810042-f6e5-4533-ec2c-7180701d5115"
      },
      "execution_count": null,
      "outputs": [
        {
          "output_type": "display_data",
          "data": {
            "text/plain": [
              "<Figure size 640x480 with 1 Axes>"
            ],
            "image/png": "[encoded data removed]"
          },
          "metadata": {}
        }
      ]
    },
    {
      "cell_type": "markdown",
      "source": [
        "**Задание 9**  \n",
        "Определите на первоначальной тестовой выборке изображение, имеющее наибольшую ошибку реконструкции. Выведите для этого изображения первоначальное и реконструированное изображения.  "
      ],
      "metadata": {
        "id": "T8S58B7xoadv"
      }
    },
    {
      "cell_type": "code",
      "source": [
        "decoded_imgs = autoencoder.predict(test_images_flat)\n",
        "reconstruction_errors = np.abs(test_images_flat - decoded_imgs).mean(axis=1)\n",
        "index_of_max_error = np.argmax(reconstruction_errors)\n",
        "\n",
        "# Вывести первоначальное и реконструированное изображения с наибольшей ошибкой\n",
        "original_image = test_images[index_of_max_error]\n",
        "reconstructed_image = decoded_imgs[index_of_max_error]\n",
        "\n",
        "plt.figure(figsize=(10, 5))\n",
        "plt.subplot(1, 2, 1)\n",
        "plt.imshow(original_image.reshape(32, 32), cmap='gray')\n",
        "plt.title('Original Image')\n",
        "plt.axis('off')\n",
        "plt.subplot(1, 2, 2)\n",
        "plt.imshow(reconstructed_image.reshape(32, 32), cmap='gray')\n",
        "plt.title('Reconstructed Image')\n",
        "plt.axis('off')\n",
        "plt.show()"
      ],
      "metadata": {
        "colab": {
          "base_uri": "https://localhost:8080/",
          "height": 428
        },
        "id": "AIqwLyg-lpsA",
        "outputId": "482b6758-d634-40cd-e17b-8e45a8fc0380"
      },
      "execution_count": null,
      "outputs": [
        {
          "output_type": "stream",
          "name": "stdout",
          "text": [
            "154/154 [==============================] - 2s 11ms/step\n"
          ]
        },
        {
          "output_type": "display_data",
          "data": {
            "text/plain": [
              "<Figure size 1000x500 with 2 Axes>"
            ],
            "image/png": "[encoded data removed]"
          },
          "metadata": {}
        }
      ]
    }
  ]
}